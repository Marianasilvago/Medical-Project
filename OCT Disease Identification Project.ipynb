{
 "cells": [
  {
   "cell_type": "code",
   "execution_count": null,
   "metadata": {
    "colab": {
     "base_uri": "https://localhost:8080/"
    },
    "id": "RC0-___LGv16",
    "outputId": "2c4e965f-13c2-474a-a953-99f432a8370a"
   },
   "outputs": [
    {
     "name": "stdout",
     "output_type": "stream",
     "text": [
      "Found GPU at: /device:GPU:0\n"
     ]
    }
   ],
   "source": [
    "%tensorflow_version 2.x\n",
    "import tensorflow as tf\n",
    "device_name = tf.test.gpu_device_name()\n",
    "if device_name != '/device:GPU:0':\n",
    "  raise SystemError('GPU device not found')\n",
    "print('Found GPU at: {}'.format(device_name))"
   ]
  },
  {
   "cell_type": "code",
   "execution_count": null,
   "metadata": {
    "colab": {
     "base_uri": "https://localhost:8080/",
     "height": 995
    },
    "id": "60AtAcRfHE2i",
    "outputId": "51b6941b-9987-4ced-ae85-07b9927dde34"
   },
   "outputs": [
    {
     "name": "stdout",
     "output_type": "stream",
     "text": [
      "Collecting tensorflow==1.15\n",
      "\u001b[?25l  Downloading https://files.pythonhosted.org/packages/3f/98/5a99af92fb911d7a88a0005ad55005f35b4c1ba8d75fba02df726cd936e6/tensorflow-1.15.0-cp36-cp36m-manylinux2010_x86_64.whl (412.3MB)\n",
      "\u001b[K     |████████████████████████████████| 412.3MB 43kB/s \n",
      "\u001b[?25hCollecting tensorboard<1.16.0,>=1.15.0\n",
      "\u001b[?25l  Downloading https://files.pythonhosted.org/packages/1e/e9/d3d747a97f7188f48aa5eda486907f3b345cd409f0a0850468ba867db246/tensorboard-1.15.0-py3-none-any.whl (3.8MB)\n",
      "\u001b[K     |████████████████████████████████| 3.8MB 55.3MB/s \n",
      "\u001b[?25hRequirement already satisfied: six>=1.10.0 in /usr/local/lib/python3.6/dist-packages (from tensorflow==1.15) (1.15.0)\n",
      "Requirement already satisfied: grpcio>=1.8.6 in /usr/local/lib/python3.6/dist-packages (from tensorflow==1.15) (1.33.2)\n",
      "Collecting tensorflow-estimator==1.15.1\n",
      "\u001b[?25l  Downloading https://files.pythonhosted.org/packages/de/62/2ee9cd74c9fa2fa450877847ba560b260f5d0fb70ee0595203082dafcc9d/tensorflow_estimator-1.15.1-py2.py3-none-any.whl (503kB)\n",
      "\u001b[K     |████████████████████████████████| 512kB 58.7MB/s \n",
      "\u001b[?25hRequirement already satisfied: astor>=0.6.0 in /usr/local/lib/python3.6/dist-packages (from tensorflow==1.15) (0.8.1)\n",
      "Requirement already satisfied: opt-einsum>=2.3.2 in /usr/local/lib/python3.6/dist-packages (from tensorflow==1.15) (3.3.0)\n",
      "Collecting keras-applications>=1.0.8\n",
      "\u001b[?25l  Downloading https://files.pythonhosted.org/packages/71/e3/19762fdfc62877ae9102edf6342d71b28fbfd9dea3d2f96a882ce099b03f/Keras_Applications-1.0.8-py3-none-any.whl (50kB)\n",
      "\u001b[K     |████████████████████████████████| 51kB 9.7MB/s \n",
      "\u001b[?25hRequirement already satisfied: termcolor>=1.1.0 in /usr/local/lib/python3.6/dist-packages (from tensorflow==1.15) (1.1.0)\n",
      "Requirement already satisfied: wheel>=0.26 in /usr/local/lib/python3.6/dist-packages (from tensorflow==1.15) (0.35.1)\n",
      "Collecting gast==0.2.2\n",
      "  Downloading https://files.pythonhosted.org/packages/4e/35/11749bf99b2d4e3cceb4d55ca22590b0d7c2c62b9de38ac4a4a7f4687421/gast-0.2.2.tar.gz\n",
      "Requirement already satisfied: absl-py>=0.7.0 in /usr/local/lib/python3.6/dist-packages (from tensorflow==1.15) (0.10.0)\n",
      "Requirement already satisfied: protobuf>=3.6.1 in /usr/local/lib/python3.6/dist-packages (from tensorflow==1.15) (3.12.4)\n",
      "Requirement already satisfied: keras-preprocessing>=1.0.5 in /usr/local/lib/python3.6/dist-packages (from tensorflow==1.15) (1.1.2)\n",
      "Requirement already satisfied: numpy<2.0,>=1.16.0 in /usr/local/lib/python3.6/dist-packages (from tensorflow==1.15) (1.18.5)\n",
      "Requirement already satisfied: google-pasta>=0.1.6 in /usr/local/lib/python3.6/dist-packages (from tensorflow==1.15) (0.2.0)\n",
      "Requirement already satisfied: wrapt>=1.11.1 in /usr/local/lib/python3.6/dist-packages (from tensorflow==1.15) (1.12.1)\n",
      "Requirement already satisfied: setuptools>=41.0.0 in /usr/local/lib/python3.6/dist-packages (from tensorboard<1.16.0,>=1.15.0->tensorflow==1.15) (50.3.2)\n",
      "Requirement already satisfied: markdown>=2.6.8 in /usr/local/lib/python3.6/dist-packages (from tensorboard<1.16.0,>=1.15.0->tensorflow==1.15) (3.3.3)\n",
      "Requirement already satisfied: werkzeug>=0.11.15 in /usr/local/lib/python3.6/dist-packages (from tensorboard<1.16.0,>=1.15.0->tensorflow==1.15) (1.0.1)\n",
      "Requirement already satisfied: h5py in /usr/local/lib/python3.6/dist-packages (from keras-applications>=1.0.8->tensorflow==1.15) (2.10.0)\n",
      "Requirement already satisfied: importlib-metadata; python_version < \"3.8\" in /usr/local/lib/python3.6/dist-packages (from markdown>=2.6.8->tensorboard<1.16.0,>=1.15.0->tensorflow==1.15) (2.0.0)\n",
      "Requirement already satisfied: zipp>=0.5 in /usr/local/lib/python3.6/dist-packages (from importlib-metadata; python_version < \"3.8\"->markdown>=2.6.8->tensorboard<1.16.0,>=1.15.0->tensorflow==1.15) (3.4.0)\n",
      "Building wheels for collected packages: gast\n",
      "  Building wheel for gast (setup.py) ... \u001b[?25l\u001b[?25hdone\n",
      "  Created wheel for gast: filename=gast-0.2.2-cp36-none-any.whl size=7542 sha256=15089acddc3fc27b5a872bf9fc3fd8bae99600f3c938f3b1f9ff6f7acd393567\n",
      "  Stored in directory: /root/.cache/pip/wheels/5c/2e/7e/a1d4d4fcebe6c381f378ce7743a3ced3699feb89bcfbdadadd\n",
      "Successfully built gast\n",
      "\u001b[31mERROR: tensorflow-probability 0.11.0 has requirement gast>=0.3.2, but you'll have gast 0.2.2 which is incompatible.\u001b[0m\n",
      "Installing collected packages: tensorboard, tensorflow-estimator, keras-applications, gast, tensorflow\n",
      "  Found existing installation: tensorboard 2.3.0\n",
      "    Uninstalling tensorboard-2.3.0:\n",
      "      Successfully uninstalled tensorboard-2.3.0\n",
      "  Found existing installation: tensorflow-estimator 2.3.0\n",
      "    Uninstalling tensorflow-estimator-2.3.0:\n",
      "      Successfully uninstalled tensorflow-estimator-2.3.0\n",
      "  Found existing installation: gast 0.3.3\n",
      "    Uninstalling gast-0.3.3:\n",
      "      Successfully uninstalled gast-0.3.3\n",
      "  Found existing installation: tensorflow 2.3.0\n",
      "    Uninstalling tensorflow-2.3.0:\n",
      "      Successfully uninstalled tensorflow-2.3.0\n",
      "Successfully installed gast-0.2.2 keras-applications-1.0.8 tensorboard-1.15.0 tensorflow-1.15.0 tensorflow-estimator-1.15.1\n"
     ]
    },
    {
     "data": {
      "application/vnd.colab-display-data+json": {
       "pip_warning": {
        "packages": [
         "gast",
         "tensorboard",
         "tensorflow"
        ]
       }
      }
     },
     "metadata": {
      "tags": []
     },
     "output_type": "display_data"
    }
   ],
   "source": [
    "!pip install tensorflow==1.15"
   ]
  },
  {
   "cell_type": "code",
   "execution_count": null,
   "metadata": {
    "colab": {
     "base_uri": "https://localhost:8080/"
    },
    "id": "TS_J8TdJHSqy",
    "outputId": "62a1c605-23c7-486c-83c3-578ee611eb93"
   },
   "outputs": [
    {
     "name": "stdout",
     "output_type": "stream",
     "text": [
      "Collecting keras==1.2\n",
      "\u001b[?25l  Downloading https://files.pythonhosted.org/packages/ef/39/06886076de3d1eaae6df9aace977284a3c1267f8576c3d07ca0d37437b38/Keras-1.2.0.tar.gz (167kB)\n",
      "\r",
      "\u001b[K     |██                              | 10kB 22.4MB/s eta 0:00:01\r",
      "\u001b[K     |████                            | 20kB 28.7MB/s eta 0:00:01\r",
      "\u001b[K     |█████▉                          | 30kB 22.9MB/s eta 0:00:01\r",
      "\u001b[K     |███████▉                        | 40kB 19.0MB/s eta 0:00:01\r",
      "\u001b[K     |█████████▉                      | 51kB 14.0MB/s eta 0:00:01\r",
      "\u001b[K     |███████████▊                    | 61kB 15.2MB/s eta 0:00:01\r",
      "\u001b[K     |█████████████▊                  | 71kB 14.3MB/s eta 0:00:01\r",
      "\u001b[K     |███████████████▊                | 81kB 14.8MB/s eta 0:00:01\r",
      "\u001b[K     |█████████████████▋              | 92kB 14.8MB/s eta 0:00:01\r",
      "\u001b[K     |███████████████████▋            | 102kB 15.1MB/s eta 0:00:01\r",
      "\u001b[K     |█████████████████████▌          | 112kB 15.1MB/s eta 0:00:01\r",
      "\u001b[K     |███████████████████████▌        | 122kB 15.1MB/s eta 0:00:01\r",
      "\u001b[K     |█████████████████████████▌      | 133kB 15.1MB/s eta 0:00:01\r",
      "\u001b[K     |███████████████████████████▍    | 143kB 15.1MB/s eta 0:00:01\r",
      "\u001b[K     |█████████████████████████████▍  | 153kB 15.1MB/s eta 0:00:01\r",
      "\u001b[K     |███████████████████████████████▍| 163kB 15.1MB/s eta 0:00:01\r",
      "\u001b[K     |████████████████████████████████| 174kB 15.1MB/s \n",
      "\u001b[?25hRequirement already satisfied: theano in /usr/local/lib/python3.6/dist-packages (from keras==1.2) (1.0.5)\n",
      "Requirement already satisfied: pyyaml in /usr/local/lib/python3.6/dist-packages (from keras==1.2) (3.13)\n",
      "Requirement already satisfied: six in /usr/local/lib/python3.6/dist-packages (from keras==1.2) (1.15.0)\n",
      "Requirement already satisfied: numpy>=1.9.1 in /usr/local/lib/python3.6/dist-packages (from theano->keras==1.2) (1.18.5)\n",
      "Requirement already satisfied: scipy>=0.14 in /usr/local/lib/python3.6/dist-packages (from theano->keras==1.2) (1.4.1)\n",
      "Building wheels for collected packages: keras\n",
      "  Building wheel for keras (setup.py) ... \u001b[?25l\u001b[?25hdone\n",
      "  Created wheel for keras: filename=Keras-1.2.0-cp36-none-any.whl size=200432 sha256=f54a0c9c9c54b1ecefa273f9d3cb3104f228acd89877b1ca88dd120e5e0cf241\n",
      "  Stored in directory: /root/.cache/pip/wheels/5f/93/d8/053b368a1eccbbc95f62e719932112466958e63eec45a4caae\n",
      "Successfully built keras\n",
      "\u001b[31mERROR: textgenrnn 1.4.1 has requirement keras>=2.1.5, but you'll have keras 1.2.0 which is incompatible.\u001b[0m\n",
      "\u001b[31mERROR: kapre 0.1.3.1 has requirement keras>=2.0.0, but you'll have keras 1.2.0 which is incompatible.\u001b[0m\n",
      "\u001b[31mERROR: fancyimpute 0.4.3 has requirement keras>=2.0.0, but you'll have keras 1.2.0 which is incompatible.\u001b[0m\n",
      "Installing collected packages: keras\n",
      "  Found existing installation: Keras 2.4.3\n",
      "    Uninstalling Keras-2.4.3:\n",
      "      Successfully uninstalled Keras-2.4.3\n",
      "Successfully installed keras-1.2.0\n"
     ]
    }
   ],
   "source": [
    "!pip install keras==1.2"
   ]
  },
  {
   "cell_type": "code",
   "execution_count": null,
   "metadata": {
    "colab": {
     "base_uri": "https://localhost:8080/",
     "height": 35
    },
    "id": "sMgKkP84HcEP",
    "outputId": "0b47bab3-79d8-484b-e8f7-a6346894f49e"
   },
   "outputs": [
    {
     "data": {
      "application/vnd.google.colaboratory.intrinsic+json": {
       "type": "string"
      },
      "text/plain": [
       "'1.15.0'"
      ]
     },
     "execution_count": 4,
     "metadata": {
      "tags": []
     },
     "output_type": "execute_result"
    }
   ],
   "source": [
    "import tensorflow as tf\n",
    "tf.__version__"
   ]
  },
  {
   "cell_type": "code",
   "execution_count": null,
   "metadata": {
    "colab": {
     "base_uri": "https://localhost:8080/",
     "height": 52
    },
    "id": "fFcx3IbwH0SO",
    "outputId": "4cbd9fff-ab1b-4c14-cf29-3ab70ca51a54"
   },
   "outputs": [
    {
     "name": "stderr",
     "output_type": "stream",
     "text": [
      "Using TensorFlow backend.\n"
     ]
    },
    {
     "data": {
      "application/vnd.google.colaboratory.intrinsic+json": {
       "type": "string"
      },
      "text/plain": [
       "'1.2.0'"
      ]
     },
     "execution_count": 5,
     "metadata": {
      "tags": []
     },
     "output_type": "execute_result"
    }
   ],
   "source": [
    "import keras\n",
    "keras.__version__"
   ]
  },
  {
   "cell_type": "code",
   "execution_count": null,
   "metadata": {
    "colab": {
     "base_uri": "https://localhost:8080/"
    },
    "id": "__2MBgySHgx8",
    "outputId": "f252b013-b7a9-4ca7-9a54-6278c53d22f5"
   },
   "outputs": [
    {
     "name": "stdout",
     "output_type": "stream",
     "text": [
      "Mounted at /content/drive\n"
     ]
    }
   ],
   "source": [
    "from google.colab import drive\n",
    "drive.mount('/content/drive')"
   ]
  },
  {
   "cell_type": "code",
   "execution_count": null,
   "metadata": {
    "id": "DvDHm5JgHlRU"
   },
   "outputs": [],
   "source": [
    "# Import libraries\n",
    "#!pip install opencv-python\n",
    "import os,cv2\n",
    "import numpy as np\n",
    "import matplotlib.pyplot as plt\n",
    "\n",
    "from sklearn.utils import shuffle\n",
    "from sklearn.model_selection import train_test_split\n",
    "\n",
    "## check dimensions as per theano/tensorflow for image dimensions.\n",
    "from keras import backend as K\n",
    "K.set_image_dim_ordering('th')\n",
    "\n",
    "from keras.layers import Merge,Dense, Conv2D, Flatten, MaxPooling2D, Activation, Dropout, BatchNormalization\n",
    "from keras.utils import np_utils\n",
    "from keras.models import Sequential\n",
    "from keras.layers.core import Dense, Dropout, Activation, Flatten\n",
    "from keras.layers.convolutional import Convolution2D, MaxPooling2D\n",
    "from keras.optimizers import SGD,RMSprop,adam\n",
    "import glob"
   ]
  },
  {
   "cell_type": "code",
   "execution_count": null,
   "metadata": {
    "colab": {
     "base_uri": "https://localhost:8080/"
    },
    "id": "ihmZgt-sIDB3",
    "outputId": "cda63bfc-3c5c-4f87-de62-8da2218fa725"
   },
   "outputs": [
    {
     "name": "stdout",
     "output_type": "stream",
     "text": [
      "Loaded the images of dataset-NORMAL9\n",
      "\n",
      "Loaded the images of dataset-NORMAL3\n",
      "\n",
      "Loaded the images of dataset-NORMAL15\n",
      "\n",
      "Loaded the images of dataset-NORMAL8\n",
      "\n",
      "Loaded the images of dataset-NORMAL6\n",
      "\n",
      "Loaded the images of dataset-NORMAL4\n",
      "\n",
      "Loaded the images of dataset-NORMAL7\n",
      "\n",
      "Loaded the images of dataset-NORMAL5\n",
      "\n",
      "Loaded the images of dataset-NORMAL2\n",
      "\n",
      "Loaded the images of dataset-NORMAL14\n",
      "\n",
      "Loaded the images of dataset-DME5\n",
      "\n",
      "Loaded the images of dataset-NORMAL10\n",
      "\n",
      "Loaded the images of dataset-DME6\n",
      "\n",
      "Loaded the images of dataset-NORMAL13\n",
      "\n",
      "Loaded the images of dataset-DME9\n",
      "\n",
      "Loaded the images of dataset-NORMAL12\n",
      "\n",
      "Loaded the images of dataset-DME8\n",
      "\n",
      "Loaded the images of dataset-NORMAL11\n",
      "\n",
      "Loaded the images of dataset-DME7\n",
      "\n",
      "Loaded the images of dataset-NORMAL1\n",
      "\n",
      "Loaded the images of dataset-DME14\n",
      "\n",
      "Loaded the images of dataset-DME3\n",
      "\n",
      "Loaded the images of dataset-DME10\n",
      "\n",
      "Loaded the images of dataset-DME13\n",
      "\n",
      "Loaded the images of dataset-DME1\n",
      "\n",
      "Loaded the images of dataset-DME2\n",
      "\n",
      "Loaded the images of dataset-DME15\n",
      "\n",
      "Loaded the images of dataset-DME4\n",
      "\n",
      "Loaded the images of dataset-DME12\n",
      "\n",
      "Loaded the images of dataset-DME11\n",
      "\n",
      "Loaded the images of dataset-AMD6\n",
      "\n",
      "Loaded the images of dataset-AMD2\n",
      "\n",
      "Loaded the images of dataset-AMD5\n",
      "\n",
      "Loaded the images of dataset-AMD8\n",
      "\n",
      "Loaded the images of dataset-AMD14\n",
      "\n",
      "Loaded the images of dataset-AMD3\n",
      "\n",
      "Loaded the images of dataset-AMD4\n",
      "\n",
      "Loaded the images of dataset-AMD7\n",
      "\n",
      "Loaded the images of dataset-AMD15\n",
      "\n",
      "Loaded the images of dataset-AMD9\n",
      "\n",
      "Loaded the images of dataset-AMD10\n",
      "\n",
      "Loaded the images of dataset-AMD12\n",
      "\n",
      "Loaded the images of dataset-AMD1\n",
      "\n",
      "Loaded the images of dataset-AMD13\n",
      "\n",
      "Loaded the images of dataset-AMD11\n",
      "\n"
     ]
    }
   ],
   "source": [
    "PATH = os.getcwd()\n",
    "# Define data path\n",
    "data_path = '/content/drive/MyDrive/Classroom/OCT_Dataset'\n",
    "data_dir_list = os.listdir(data_path)\n",
    "\n",
    "img_rows=128\n",
    "img_cols=128\n",
    "num_channel=1\n",
    "#num_epoch=2\n",
    "no_images=0\n",
    "\n",
    "for dataset in data_dir_list:\n",
    "    img_list = os.listdir(data_path + '/' + dataset)\n",
    "    no_images = no_images+len(img_list)\n",
    "\n",
    "# Define the number of classes\n",
    "labels = np.ones((no_images,),dtype='int64')\n",
    "num_classes = 3\n",
    "label_index=0\n",
    "img_data_list=[]\n",
    "img=0\n",
    "\n",
    "for dataset in data_dir_list:\n",
    "    img_list=os.listdir(data_path+'/'+ dataset)\n",
    "    print ('Loaded the images of dataset-'+'{}\\n'.format(dataset))\n",
    "    for img in img_list:\n",
    "        input_img=cv2.imread(data_path + '/'+ dataset + '/'+ img)\n",
    "        input_img=cv2.cvtColor(input_img, cv2.COLOR_BGR2GRAY)\n",
    "        input_img_resize=cv2.resize(input_img,(128,128))\n",
    "        img_data_list.append(input_img_resize)\n",
    "        if dataset[0]==  'A':\n",
    "            labels[label_index]=  0\n",
    "            #print(dataset[0])\n",
    "        if dataset[0] == 'D':\n",
    "            labels[label_index] = 1\n",
    "            #print(dataset[0])\n",
    "        if dataset[0] == 'N':\n",
    "            labels[label_index] = 2\n",
    "        label_index = label_index+1\n",
    "            #print(dataset[0])"
   ]
  },
  {
   "cell_type": "code",
   "execution_count": null,
   "metadata": {
    "colab": {
     "base_uri": "https://localhost:8080/"
    },
    "id": "9Vylm6yIIEws",
    "outputId": "cae295f0-4a49-44f3-ccf6-a34ed2114892"
   },
   "outputs": [
    {
     "name": "stdout",
     "output_type": "stream",
     "text": [
      "(3234, 128, 128)\n",
      "(3234, 1, 128, 128)\n",
      "Loaded the images of dataset-NORMAL9\n",
      "\n",
      "Loaded the images of dataset-NORMAL3\n",
      "\n",
      "Loaded the images of dataset-NORMAL15\n",
      "\n",
      "Loaded the images of dataset-NORMAL8\n",
      "\n",
      "Loaded the images of dataset-NORMAL6\n",
      "\n",
      "Loaded the images of dataset-NORMAL4\n",
      "\n",
      "Loaded the images of dataset-NORMAL7\n",
      "\n",
      "Loaded the images of dataset-NORMAL5\n",
      "\n",
      "Loaded the images of dataset-NORMAL2\n",
      "\n",
      "Loaded the images of dataset-NORMAL14\n",
      "\n",
      "Loaded the images of dataset-DME5\n",
      "\n",
      "Loaded the images of dataset-NORMAL10\n",
      "\n",
      "Loaded the images of dataset-DME6\n",
      "\n",
      "Loaded the images of dataset-NORMAL13\n",
      "\n",
      "Loaded the images of dataset-DME9\n",
      "\n",
      "Loaded the images of dataset-NORMAL12\n",
      "\n",
      "Loaded the images of dataset-DME8\n",
      "\n",
      "Loaded the images of dataset-NORMAL11\n",
      "\n",
      "Loaded the images of dataset-DME7\n",
      "\n",
      "Loaded the images of dataset-NORMAL1\n",
      "\n",
      "Loaded the images of dataset-DME14\n",
      "\n",
      "Loaded the images of dataset-DME3\n",
      "\n",
      "Loaded the images of dataset-DME10\n",
      "\n",
      "Loaded the images of dataset-DME13\n",
      "\n",
      "Loaded the images of dataset-DME1\n",
      "\n",
      "Loaded the images of dataset-DME2\n",
      "\n",
      "Loaded the images of dataset-DME15\n",
      "\n",
      "Loaded the images of dataset-DME4\n",
      "\n",
      "Loaded the images of dataset-DME12\n",
      "\n",
      "Loaded the images of dataset-DME11\n",
      "\n",
      "Loaded the images of dataset-AMD6\n",
      "\n",
      "Loaded the images of dataset-AMD2\n",
      "\n",
      "Loaded the images of dataset-AMD5\n",
      "\n",
      "Loaded the images of dataset-AMD8\n",
      "\n",
      "Loaded the images of dataset-AMD14\n",
      "\n",
      "Loaded the images of dataset-AMD3\n",
      "\n",
      "Loaded the images of dataset-AMD4\n",
      "\n",
      "Loaded the images of dataset-AMD7\n",
      "\n",
      "Loaded the images of dataset-AMD15\n",
      "\n",
      "Loaded the images of dataset-AMD9\n",
      "\n",
      "Loaded the images of dataset-AMD10\n",
      "\n",
      "Loaded the images of dataset-AMD12\n",
      "\n",
      "Loaded the images of dataset-AMD1\n",
      "\n",
      "Loaded the images of dataset-AMD13\n",
      "\n",
      "Loaded the images of dataset-AMD11\n",
      "\n",
      "(3234, 16384)\n"
     ]
    },
    {
     "name": "stderr",
     "output_type": "stream",
     "text": [
      "/usr/local/lib/python3.6/dist-packages/sklearn/preprocessing/_data.py:173: UserWarning: Numerical issues were encountered when centering the data and might not be solved. Dataset may contain too large values. You may need to prescale your features.\n",
      "  warnings.warn(\"Numerical issues were encountered \"\n"
     ]
    },
    {
     "name": "stdout",
     "output_type": "stream",
     "text": [
      "(3234, 16384)\n",
      "(3234, 1, 128, 128)\n",
      "(3234, 1, 128, 128)\n"
     ]
    },
    {
     "name": "stderr",
     "output_type": "stream",
     "text": [
      "/usr/local/lib/python3.6/dist-packages/sklearn/preprocessing/_data.py:190: UserWarning: Numerical issues were encountered when scaling the data and might not be solved. The standard deviation of the data is probably very close to 0. \n",
      "  warnings.warn(\"Numerical issues were encountered \"\n"
     ]
    },
    {
     "data": {
      "text/plain": [
       "array([2, 2, 2, 2, 2, 2, 2, 2, 2, 2, 2, 2, 2, 2, 2, 2, 2, 2, 2, 2, 2, 2,\n",
       "       2, 2, 2, 2, 2, 2, 2, 2, 2, 2, 2, 2, 2, 2, 2, 2, 2, 2, 2, 2, 2, 2,\n",
       "       2, 2, 2, 2, 2, 2, 2, 2, 2, 2, 2, 2, 2, 2, 2, 2, 2, 2, 2, 2, 2, 2,\n",
       "       2, 2, 2, 2, 2, 2, 2, 2, 2, 2, 2, 2, 2, 2, 2, 2, 2, 2, 2, 2, 2, 2,\n",
       "       2, 2, 2, 2, 2, 2, 2, 2, 2, 2, 2, 2, 2, 2, 2, 2, 2, 2, 2, 2, 2, 2,\n",
       "       2, 2, 2, 2, 2, 2, 2, 2, 2, 2, 2, 2, 2, 2, 2, 2, 2, 2, 2, 2, 2, 2,\n",
       "       2, 2, 2, 2, 2, 2, 2, 2, 2, 2, 2, 2, 2, 2, 2, 2, 2, 2, 2, 2, 2, 2,\n",
       "       2, 2, 2, 2, 2, 2, 2, 2, 2, 2, 2, 2, 2, 2, 2, 2, 2, 2, 2, 2, 2, 2,\n",
       "       2, 2, 2, 2, 2, 2, 2, 2, 2, 2, 2, 2, 2, 2, 2, 2, 2, 2, 2, 2, 2, 2,\n",
       "       2, 2, 2, 2, 2, 2, 2, 2, 2, 2, 2, 2, 2, 2, 2, 2, 2, 2, 2, 2, 2, 2,\n",
       "       2, 2, 2, 2, 2, 2, 2, 2, 2, 2, 2, 2, 2, 2, 2, 2, 2, 2, 2, 2, 2, 2,\n",
       "       2, 2, 2, 2, 2, 2, 2, 2, 2, 2, 2, 2, 2, 2, 2, 2, 2, 2, 2, 2, 2, 2,\n",
       "       2, 2, 2, 2, 2, 2, 2, 2, 2, 2, 2, 2, 2, 2, 2, 2, 2, 2, 2, 2, 2, 2,\n",
       "       2, 2, 2, 2, 2, 2, 2, 2, 2, 2, 2, 2, 2, 2, 2, 2, 2, 2, 2, 2, 2, 2,\n",
       "       2, 2, 2, 2, 2, 2, 2, 2, 2, 2, 2, 2, 2, 2, 2, 2, 2, 2, 2, 2, 2, 2,\n",
       "       2, 2, 2, 2, 2, 2, 2, 2, 2, 2, 2, 2, 2, 2, 2, 2, 2, 2, 2, 2, 2, 2,\n",
       "       2, 2, 2, 2, 2, 2, 2, 2, 2, 2, 2, 2, 2, 2, 2, 2, 2, 2, 2, 2, 2, 2,\n",
       "       2, 2, 2, 2, 2, 2, 2, 2, 2, 2, 2, 2, 2, 2, 2, 2, 2, 2, 2, 2, 2, 2,\n",
       "       2, 2, 2, 2, 2, 2, 2, 2, 2, 2, 2, 2, 2, 2, 2, 2, 2, 2, 2, 2, 2, 2,\n",
       "       2, 2, 2, 2, 2, 2, 2, 2, 2, 2, 2, 2, 2, 2, 2, 2, 2, 2, 2, 2, 2, 2,\n",
       "       2, 2, 2, 2, 2, 2, 2, 2, 2, 2, 2, 2, 2, 2, 2, 2, 2, 2, 2, 2, 2, 2,\n",
       "       2, 2, 2, 2, 2, 2, 2, 2, 2, 2, 2, 2, 2, 2, 2, 2, 2, 2, 2, 2, 2, 2,\n",
       "       2, 2, 2, 2, 2, 2, 2, 2, 2, 2, 2, 2, 2, 2, 2, 2, 2, 2, 2, 2, 2, 2,\n",
       "       2, 2, 2, 2, 2, 2, 2, 2, 2, 2, 2, 2, 2, 2, 2, 2, 2, 2, 2, 2, 2, 2,\n",
       "       2, 2, 2, 2, 2, 2, 2, 2, 2, 2, 2, 2, 2, 2, 2, 2, 2, 2, 2, 2, 2, 2,\n",
       "       2, 2, 2, 2, 2, 2, 2, 2, 2, 2, 2, 2, 2, 2, 2, 2, 2, 2, 2, 2, 2, 2,\n",
       "       2, 2, 2, 2, 2, 2, 2, 2, 2, 2, 2, 2, 2, 2, 2, 2, 2, 2, 2, 2, 2, 2,\n",
       "       2, 2, 2, 2, 2, 2, 2, 2, 2, 2, 2, 2, 2, 2, 2, 2, 2, 2, 2, 2, 2, 2,\n",
       "       2, 2, 2, 2, 2, 2, 2, 2, 2, 2, 2, 2, 2, 2, 2, 2, 2, 2, 2, 2, 2, 2,\n",
       "       2, 2, 2, 2, 2, 2, 2, 2, 2, 2, 2, 2, 2, 2, 2, 2, 2, 2, 2, 2, 2, 2,\n",
       "       2, 2, 2, 2, 2, 2, 2, 2, 2, 2, 2, 2, 2, 2, 2, 2, 2, 2, 2, 2, 2, 2,\n",
       "       2, 2, 2, 2, 2, 2, 2, 2, 2, 2, 2, 2, 2, 2, 2, 2, 2, 2, 2, 2, 2, 2,\n",
       "       2, 2, 2, 2, 2, 2, 2, 2, 2, 2, 2, 2, 2, 2, 2, 2, 2, 2, 2, 2, 2, 2,\n",
       "       2, 2, 2, 2, 2, 2, 2, 2, 2, 2, 2, 2, 2, 2, 2, 2, 2, 2, 2, 2, 2, 2,\n",
       "       2, 2, 2, 2, 2, 2, 2, 2, 2, 2, 2, 2, 2, 2, 2, 2, 2, 2, 2, 2, 2, 2,\n",
       "       2, 2, 2, 2, 2, 2, 2, 2, 2, 2, 2, 2, 2, 2, 2, 2, 2, 2, 2, 2, 2, 2,\n",
       "       2, 2, 2, 2, 2, 2, 2, 2, 2, 2, 2, 2, 2, 2, 2, 2, 2, 2, 2, 2, 2, 2,\n",
       "       2, 2, 2, 2, 2, 2, 2, 2, 2, 2, 2, 2, 2, 2, 2, 2, 2, 2, 2, 2, 2, 2,\n",
       "       2, 2, 2, 2, 2, 2, 2, 2, 2, 2, 2, 2, 2, 2, 2, 2, 2, 2, 2, 2, 2, 2,\n",
       "       2, 2, 2, 2, 2, 2, 2, 2, 2, 2, 2, 2, 2, 2, 2, 2, 2, 2, 2, 2, 2, 2,\n",
       "       2, 2, 2, 2, 2, 2, 2, 2, 2, 2, 2, 2, 2, 2, 2, 2, 2, 2, 2, 2, 2, 2,\n",
       "       2, 2, 2, 2, 2, 2, 2, 2, 2, 2, 2, 2, 2, 2, 2, 2, 2, 2, 2, 2, 2, 2,\n",
       "       2, 2, 2, 2, 2, 2, 2, 2, 2, 2, 2, 2, 2, 2, 2, 2, 2, 2, 2, 2, 2, 2,\n",
       "       2, 2, 2, 2, 2, 2, 2, 2, 2, 2, 2, 2, 2, 2, 2, 2, 2, 2, 2, 2, 2, 2,\n",
       "       2, 2, 1, 1, 1, 1, 1, 1, 1, 1, 1, 1, 1, 1, 1, 1, 1, 1, 1, 1, 1, 1,\n",
       "       1, 1, 1, 1, 1, 1, 1, 1, 1, 1])"
      ]
     },
     "execution_count": 9,
     "metadata": {
      "tags": []
     },
     "output_type": "execute_result"
    }
   ],
   "source": [
    "img_data = np.array(img_data_list)\n",
    "img_data = img_data.astype('float32')\n",
    "img_data /= 255\n",
    "print (img_data.shape)\n",
    "\n",
    "\n",
    "# Using 'th' for the image_dim_ordering we get accuracy >=0.99 . \n",
    "# Using 'tf' for the dim order I get accuracy >= 0.9 but on more epochs\n",
    "if num_channel==1:\n",
    "    if K.image_dim_ordering()=='th':\n",
    "        img_data= np.expand_dims(img_data, axis=1)\n",
    "        print (img_data.shape)\n",
    "    else:\n",
    "        img_data= np.expand_dims(img_data, axis=4)\n",
    "        print (img_data.shape)\n",
    "\n",
    "else:\n",
    "    if K.image_dim_ordering()=='th':\n",
    "        img_data=np.rollaxis(img_data,3,1)\n",
    "        print (img_data.shape)\n",
    "\n",
    "# case only followed for sequential images\n",
    "# \n",
    "        labels[0:722] = 0\n",
    "        labels[723:1823] = 1\n",
    "        labels[1824:3231] = 2\n",
    "        \n",
    "        \n",
    "        X_train.shape\n",
    "        \n",
    "\n",
    "        \n",
    "USE_SKLEARN_PREPROCESSING=True\n",
    "\n",
    "if USE_SKLEARN_PREPROCESSING:\n",
    "    # using sklearn for preprocessing\n",
    "    from sklearn import preprocessing\n",
    "\n",
    "    def image_to_feature_vector(image, size=(128, 128)):\n",
    "        # resize the image to a fixed size, then flatten the image into\n",
    "        # a list of raw pixel intensities\n",
    "        return cv2.resize(image, size).flatten()\n",
    "\n",
    "    img_data_list=[]\n",
    "    for dataset in data_dir_list:\n",
    "        img_list=os.listdir(data_path+'/'+ dataset)\n",
    "        print ('Loaded the images of dataset-'+'{}\\n'.format(dataset))\n",
    "        for img in img_list:\n",
    "            input_img=cv2.imread(data_path + '/'+ dataset + '/'+ img )\n",
    "            input_img=cv2.cvtColor(input_img, cv2.COLOR_BGR2GRAY)\n",
    "            input_img_flatten=image_to_feature_vector(input_img,(128,128))\n",
    "            img_data_list.append(input_img_flatten)\n",
    "\n",
    "    img_data = np.array(img_data_list)\n",
    "    img_data = img_data.astype('float32')\n",
    "    print (img_data.shape)\n",
    "    img_data_scaled = preprocessing.scale(img_data)\n",
    "    print (img_data_scaled.shape)\n",
    "\n",
    "    if K.image_dim_ordering()=='th':\n",
    "        img_data_scaled=img_data_scaled.reshape(img_data.shape[0],num_channel,img_rows,img_cols)\n",
    "        print (img_data_scaled.shape)\n",
    "\n",
    "    else:\n",
    "        img_data_scaled=img_data_scaled.reshape(img_data.shape[0],img_rows,img_cols,num_channel)\n",
    "        print (img_data_scaled.shape)\n",
    "\n",
    "\n",
    "    if K.image_dim_ordering()=='th':\n",
    "        img_data_scaled=img_data_scaled.reshape(img_data.shape[0],num_channel,img_rows,img_cols)\n",
    "        print (img_data_scaled.shape)\n",
    "\n",
    "    else:\n",
    "        img_data_scaled=img_data_scaled.reshape(img_data.shape[0],img_rows,img_cols,num_channel)\n",
    "        print (img_data_scaled.shape)\n",
    "\n",
    "if USE_SKLEARN_PREPROCESSING:\n",
    "    img_data=img_data_scaled\n",
    "    \n",
    "    #%%\n",
    "labels[0:1000]\n",
    "#%%\n",
    "\n"
   ]
  },
  {
   "cell_type": "code",
   "execution_count": null,
   "metadata": {
    "colab": {
     "base_uri": "https://localhost:8080/"
    },
    "id": "wpYQM-5hZM2F",
    "outputId": "c05ac1c2-d4c7-412f-b80e-7653d3f73bea"
   },
   "outputs": [
    {
     "name": "stdout",
     "output_type": "stream",
     "text": [
      "X_train shape:  (2587, 1, 128, 128)\n",
      "X_test shape:  (647, 1, 128, 128)\n",
      "y_train shape:  (2587, 3)\n",
      "y_test shape:  (647, 3)\n"
     ]
    }
   ],
   "source": [
    "# Assigning Labels\n",
    "\n",
    "# Define the number of classes\n",
    "num_classes = 3\n",
    "\n",
    "names = ['AMD','DME','NORMAL']\n",
    "\n",
    "# convert class labels to on-hot encoding\n",
    "Y = np_utils.to_categorical(labels, num_classes)\n",
    "\n",
    "#Shuffle the dataset with random state=2\n",
    "x, y = shuffle(img_data, Y, random_state=2)\n",
    "# Split the dataset with 20% testing data\n",
    "X_train, X_test, y_train, y_test = train_test_split(x, y, test_size = 0.2)\n",
    "print(\"X_train shape: \",X_train.shape)\n",
    "print(\"X_test shape: \",X_test.shape)\n",
    "print(\"y_train shape: \",y_train.shape)\n",
    "print(\"y_test shape: \",y_test.shape)\n"
   ]
  },
  {
   "cell_type": "code",
   "execution_count": null,
   "metadata": {
    "colab": {
     "base_uri": "https://localhost:8080/"
    },
    "id": "gVI2YTOuZSBN",
    "outputId": "ad906b31-572a-43a8-ff4a-cc7c147d9638"
   },
   "outputs": [
    {
     "name": "stdout",
     "output_type": "stream",
     "text": [
      "____________________________________________________________________________________________________\n",
      "Layer (type)                     Output Shape          Param #     Connected to                     \n",
      "====================================================================================================\n",
      "convolution2d_5 (Convolution2D)  (None, 16, 126, 126)  160         convolution2d_input_5[0][0]      \n",
      "____________________________________________________________________________________________________\n",
      "maxpooling2d_5 (MaxPooling2D)    (None, 16, 42, 42)    0           convolution2d_5[0][0]            \n",
      "____________________________________________________________________________________________________\n",
      "convolution2d_6 (Convolution2D)  (None, 32, 40, 40)    4640        maxpooling2d_5[0][0]             \n",
      "____________________________________________________________________________________________________\n",
      "maxpooling2d_6 (MaxPooling2D)    (None, 32, 13, 13)    0           convolution2d_6[0][0]            \n",
      "____________________________________________________________________________________________________\n",
      "convolution2d_7 (Convolution2D)  (None, 32, 11, 11)    9248        maxpooling2d_6[0][0]             \n",
      "____________________________________________________________________________________________________\n",
      "maxpooling2d_7 (MaxPooling2D)    (None, 32, 3, 3)      0           convolution2d_7[0][0]            \n",
      "____________________________________________________________________________________________________\n",
      "flatten_5 (Flatten)              (None, 288)           0           maxpooling2d_7[0][0]             \n",
      "____________________________________________________________________________________________________\n",
      "dense_9 (Dense)                  (None, 16)            4624        flatten_5[0][0]                  \n",
      "____________________________________________________________________________________________________\n",
      "dense_10 (Dense)                 (None, 3)             51          dense_9[0][0]                    \n",
      "====================================================================================================\n",
      "Total params: 18,723\n",
      "Trainable params: 18,723\n",
      "Non-trainable params: 0\n",
      "____________________________________________________________________________________________________\n"
     ]
    }
   ],
   "source": [
    "# Defining the model \n",
    "# Feel free to use CNNs/Dense Networks\n",
    "\n",
    "model = Sequential()\n",
    "\n",
    "model.add(Conv2D(16, nb_row=3, nb_col=3, activation='relu', input_shape=X_train.shape[1:]))\n",
    "model.add(MaxPooling2D(pool_size=(3,3), strides=(3,3)))\n",
    "\n",
    "model.add(Conv2D(32, nb_row=3, nb_col=3, activation='relu'))\n",
    "model.add(MaxPooling2D(pool_size=(3,3), strides=(3,3)))\n",
    "\n",
    "model.add(Conv2D(32,nb_row=3, nb_col=3, activation='relu'))\n",
    "model.add(MaxPooling2D(pool_size=(3,3), strides=(3,3)))\n",
    "\n",
    "model.add(Flatten())\n",
    "model.add(Dense(16, activation='relu'))\n",
    "model.add(Dense(3, activation='softmax'))\n",
    "\n",
    "\n",
    "\n",
    "# Viewing model_configuration\n",
    "model.summary()\n",
    "#model.get_config()\n",
    "#model.layers[0].get_config()\n",
    "#model.layers[0].input_shape\n",
    "#model.layers[0].output_shape\n",
    "#model.layers[0].output\n",
    "#model.layers[0].get_weights()\n"
   ]
  },
  {
   "cell_type": "code",
   "execution_count": null,
   "metadata": {
    "colab": {
     "base_uri": "https://localhost:8080/"
    },
    "id": "ogJ_znSEZeAM",
    "outputId": "87f9f264-1f72-45b4-e278-6892447cce3d"
   },
   "outputs": [
    {
     "name": "stdout",
     "output_type": "stream",
     "text": [
      "WARNING:tensorflow:From /usr/local/lib/python3.6/dist-packages/keras/optimizers.py:610: The name tf.train.Optimizer is deprecated. Please use tf.compat.v1.train.Optimizer instead.\n",
      "\n",
      "WARNING:tensorflow:From /usr/local/lib/python3.6/dist-packages/keras/backend/tensorflow_backend.py:1966: calling reduce_sum_v1 (from tensorflow.python.ops.math_ops) with keep_dims is deprecated and will be removed in a future version.\n",
      "Instructions for updating:\n",
      "keep_dims is deprecated, use keepdims instead\n",
      "WARNING:tensorflow:From /usr/local/lib/python3.6/dist-packages/keras/backend/tensorflow_backend.py:1970: The name tf.log is deprecated. Please use tf.math.log instead.\n",
      "\n"
     ]
    }
   ],
   "source": [
    "from keras.optimizers import Adam\n",
    "learning_rate = 0.0001\n",
    "opt = Adam(lr=learning_rate)\n",
    "model.compile(loss='categorical_crossentropy', optimizer=opt ,metrics=['accuracy'])"
   ]
  },
  {
   "cell_type": "code",
   "execution_count": null,
   "metadata": {
    "colab": {
     "base_uri": "https://localhost:8080/"
    },
    "id": "_WqLGwZrZkq5",
    "outputId": "677fe2b2-777c-4bad-c0f7-4d5d85fc9c14"
   },
   "outputs": [
    {
     "name": "stdout",
     "output_type": "stream",
     "text": [
      "Train on 2587 samples, validate on 647 samples\n",
      "Epoch 1/150\n",
      "2587/2587 [==============================] - 1s - loss: 0.3990 - acc: 0.8821 - val_loss: 0.3871 - val_acc: 0.8794\n",
      "Epoch 2/150\n",
      "2587/2587 [==============================] - 1s - loss: 0.3542 - acc: 0.8976 - val_loss: 0.3492 - val_acc: 0.8918\n",
      "Epoch 3/150\n",
      "2587/2587 [==============================] - 1s - loss: 0.3062 - acc: 0.9181 - val_loss: 0.2947 - val_acc: 0.9150\n",
      "Epoch 4/150\n",
      "2587/2587 [==============================] - 1s - loss: 0.2583 - acc: 0.9331 - val_loss: 0.2575 - val_acc: 0.9258\n",
      "Epoch 5/150\n",
      "2587/2587 [==============================] - 1s - loss: 0.2199 - acc: 0.9436 - val_loss: 0.2103 - val_acc: 0.9490\n",
      "Epoch 6/150\n",
      "2587/2587 [==============================] - 1s - loss: 0.1908 - acc: 0.9548 - val_loss: 0.1872 - val_acc: 0.9521\n",
      "Epoch 7/150\n",
      "2587/2587 [==============================] - 1s - loss: 0.1625 - acc: 0.9617 - val_loss: 0.1713 - val_acc: 0.9598\n",
      "Epoch 8/150\n",
      "2587/2587 [==============================] - 1s - loss: 0.1441 - acc: 0.9691 - val_loss: 0.1493 - val_acc: 0.9645\n",
      "Epoch 9/150\n",
      "2587/2587 [==============================] - 1s - loss: 0.1254 - acc: 0.9749 - val_loss: 0.1411 - val_acc: 0.9675\n",
      "Epoch 10/150\n",
      "2587/2587 [==============================] - 1s - loss: 0.1089 - acc: 0.9814 - val_loss: 0.1258 - val_acc: 0.9753\n",
      "Epoch 11/150\n",
      "2587/2587 [==============================] - 1s - loss: 0.0979 - acc: 0.9861 - val_loss: 0.1057 - val_acc: 0.9737\n",
      "Epoch 12/150\n",
      "2587/2587 [==============================] - 1s - loss: 0.0866 - acc: 0.9869 - val_loss: 0.1032 - val_acc: 0.9799\n",
      "Epoch 13/150\n",
      "2587/2587 [==============================] - 1s - loss: 0.0807 - acc: 0.9872 - val_loss: 0.0967 - val_acc: 0.9815\n",
      "Epoch 14/150\n",
      "2587/2587 [==============================] - 1s - loss: 0.0738 - acc: 0.9903 - val_loss: 0.0895 - val_acc: 0.9784\n",
      "Epoch 15/150\n",
      "2587/2587 [==============================] - 1s - loss: 0.0680 - acc: 0.9927 - val_loss: 0.0949 - val_acc: 0.9722\n",
      "Epoch 16/150\n",
      "2587/2587 [==============================] - 1s - loss: 0.0637 - acc: 0.9927 - val_loss: 0.0785 - val_acc: 0.9784\n",
      "Epoch 17/150\n",
      "2587/2587 [==============================] - 1s - loss: 0.0586 - acc: 0.9942 - val_loss: 0.0821 - val_acc: 0.9753\n",
      "Epoch 18/150\n",
      "2587/2587 [==============================] - 1s - loss: 0.0550 - acc: 0.9954 - val_loss: 0.0762 - val_acc: 0.9784\n",
      "Epoch 19/150\n",
      "2587/2587 [==============================] - 1s - loss: 0.0530 - acc: 0.9942 - val_loss: 0.0725 - val_acc: 0.9784\n",
      "Epoch 20/150\n",
      "2587/2587 [==============================] - 1s - loss: 0.0499 - acc: 0.9961 - val_loss: 0.0733 - val_acc: 0.9784\n",
      "Epoch 21/150\n",
      "2587/2587 [==============================] - 0s - loss: 0.0473 - acc: 0.9954 - val_loss: 0.0707 - val_acc: 0.9799\n",
      "Epoch 22/150\n",
      "2587/2587 [==============================] - 1s - loss: 0.0458 - acc: 0.9981 - val_loss: 0.0684 - val_acc: 0.9815\n",
      "Epoch 23/150\n",
      "2587/2587 [==============================] - 1s - loss: 0.0434 - acc: 0.9965 - val_loss: 0.0688 - val_acc: 0.9784\n",
      "Epoch 24/150\n",
      "2587/2587 [==============================] - 1s - loss: 0.0420 - acc: 0.9965 - val_loss: 0.0675 - val_acc: 0.9799\n",
      "Epoch 25/150\n",
      "2587/2587 [==============================] - 1s - loss: 0.0410 - acc: 0.9977 - val_loss: 0.0674 - val_acc: 0.9753\n",
      "Epoch 26/150\n",
      "2587/2587 [==============================] - 1s - loss: 0.0395 - acc: 0.9981 - val_loss: 0.0642 - val_acc: 0.9815\n",
      "Epoch 27/150\n",
      "2587/2587 [==============================] - 1s - loss: 0.0384 - acc: 0.9988 - val_loss: 0.0666 - val_acc: 0.9768\n",
      "Epoch 28/150\n",
      "2587/2587 [==============================] - 1s - loss: 0.0366 - acc: 0.9965 - val_loss: 0.0621 - val_acc: 0.9861\n",
      "Epoch 29/150\n",
      "2587/2587 [==============================] - 1s - loss: 0.0360 - acc: 0.9992 - val_loss: 0.0641 - val_acc: 0.9784\n",
      "Epoch 30/150\n",
      "2587/2587 [==============================] - 1s - loss: 0.0349 - acc: 0.9977 - val_loss: 0.0614 - val_acc: 0.9815\n",
      "Epoch 31/150\n",
      "2587/2587 [==============================] - 1s - loss: 0.0342 - acc: 0.9969 - val_loss: 0.0598 - val_acc: 0.9830\n",
      "Epoch 32/150\n",
      "2587/2587 [==============================] - 1s - loss: 0.0322 - acc: 0.9985 - val_loss: 0.0598 - val_acc: 0.9830\n",
      "Epoch 33/150\n",
      "2587/2587 [==============================] - 1s - loss: 0.0317 - acc: 0.9981 - val_loss: 0.0623 - val_acc: 0.9784\n",
      "Epoch 34/150\n",
      "2587/2587 [==============================] - 1s - loss: 0.0313 - acc: 0.9985 - val_loss: 0.0590 - val_acc: 0.9815\n",
      "Epoch 35/150\n",
      "2587/2587 [==============================] - 1s - loss: 0.0304 - acc: 0.9981 - val_loss: 0.0582 - val_acc: 0.9830\n",
      "Epoch 36/150\n",
      "2587/2587 [==============================] - 1s - loss: 0.0295 - acc: 0.9977 - val_loss: 0.0588 - val_acc: 0.9861\n",
      "Epoch 37/150\n",
      "2587/2587 [==============================] - 1s - loss: 0.0292 - acc: 0.9977 - val_loss: 0.0591 - val_acc: 0.9815\n",
      "Epoch 38/150\n",
      "2587/2587 [==============================] - 1s - loss: 0.0285 - acc: 0.9992 - val_loss: 0.0605 - val_acc: 0.9830\n",
      "Epoch 39/150\n",
      "2587/2587 [==============================] - 1s - loss: 0.0274 - acc: 0.9985 - val_loss: 0.0635 - val_acc: 0.9815\n",
      "Epoch 40/150\n",
      "2587/2587 [==============================] - 1s - loss: 0.0267 - acc: 0.9981 - val_loss: 0.0569 - val_acc: 0.9845\n",
      "Epoch 41/150\n",
      "2587/2587 [==============================] - 1s - loss: 0.0256 - acc: 0.9988 - val_loss: 0.0584 - val_acc: 0.9830\n",
      "Epoch 42/150\n",
      "2587/2587 [==============================] - 1s - loss: 0.0249 - acc: 0.9981 - val_loss: 0.0579 - val_acc: 0.9830\n",
      "Epoch 43/150\n",
      "2587/2587 [==============================] - 1s - loss: 0.0236 - acc: 0.9992 - val_loss: 0.0581 - val_acc: 0.9830\n",
      "Epoch 44/150\n",
      "2587/2587 [==============================] - 1s - loss: 0.0212 - acc: 0.9985 - val_loss: 0.0560 - val_acc: 0.9830\n",
      "Epoch 45/150\n",
      "2587/2587 [==============================] - 1s - loss: 0.0172 - acc: 0.9977 - val_loss: 0.0529 - val_acc: 0.9845\n",
      "Epoch 46/150\n",
      "2587/2587 [==============================] - 1s - loss: 0.0139 - acc: 0.9981 - val_loss: 0.0786 - val_acc: 0.9815\n",
      "Epoch 47/150\n",
      "2587/2587 [==============================] - 1s - loss: 0.0071 - acc: 0.9996 - val_loss: 0.0731 - val_acc: 0.9861\n",
      "Epoch 48/150\n",
      "2587/2587 [==============================] - 1s - loss: 0.0056 - acc: 0.9996 - val_loss: 0.0808 - val_acc: 0.9830\n",
      "Epoch 49/150\n",
      "2587/2587 [==============================] - 1s - loss: 0.0053 - acc: 0.9996 - val_loss: 0.0737 - val_acc: 0.9876\n",
      "Epoch 50/150\n",
      "2587/2587 [==============================] - 1s - loss: 0.0041 - acc: 1.0000 - val_loss: 0.0723 - val_acc: 0.9845\n",
      "Epoch 51/150\n",
      "2587/2587 [==============================] - 1s - loss: 0.0039 - acc: 0.9996 - val_loss: 0.0726 - val_acc: 0.9845\n",
      "Epoch 52/150\n",
      "2587/2587 [==============================] - 1s - loss: 0.0032 - acc: 0.9996 - val_loss: 0.0720 - val_acc: 0.9845\n",
      "Epoch 53/150\n",
      "2587/2587 [==============================] - 1s - loss: 0.0028 - acc: 1.0000 - val_loss: 0.0688 - val_acc: 0.9845\n",
      "Epoch 54/150\n",
      "2587/2587 [==============================] - 1s - loss: 0.0027 - acc: 0.9996 - val_loss: 0.0660 - val_acc: 0.9876\n",
      "Epoch 55/150\n",
      "2587/2587 [==============================] - 1s - loss: 0.0024 - acc: 1.0000 - val_loss: 0.0685 - val_acc: 0.9845\n",
      "Epoch 56/150\n",
      "2587/2587 [==============================] - 1s - loss: 0.0022 - acc: 1.0000 - val_loss: 0.0668 - val_acc: 0.9861\n",
      "Epoch 57/150\n",
      "2587/2587 [==============================] - 1s - loss: 0.0021 - acc: 0.9996 - val_loss: 0.0668 - val_acc: 0.9845\n",
      "Epoch 58/150\n",
      "2587/2587 [==============================] - 1s - loss: 0.0019 - acc: 1.0000 - val_loss: 0.0666 - val_acc: 0.9845\n",
      "Epoch 59/150\n",
      "2587/2587 [==============================] - 1s - loss: 0.0018 - acc: 1.0000 - val_loss: 0.0685 - val_acc: 0.9845\n",
      "Epoch 60/150\n",
      "2587/2587 [==============================] - 1s - loss: 0.0018 - acc: 0.9996 - val_loss: 0.0662 - val_acc: 0.9845\n",
      "Epoch 61/150\n",
      "2587/2587 [==============================] - 1s - loss: 0.0016 - acc: 1.0000 - val_loss: 0.0668 - val_acc: 0.9845\n",
      "Epoch 62/150\n",
      "2587/2587 [==============================] - 1s - loss: 0.0015 - acc: 1.0000 - val_loss: 0.0662 - val_acc: 0.9845\n",
      "Epoch 63/150\n",
      "2587/2587 [==============================] - 1s - loss: 0.0014 - acc: 1.0000 - val_loss: 0.0662 - val_acc: 0.9845\n",
      "Epoch 64/150\n",
      "2587/2587 [==============================] - 1s - loss: 0.0014 - acc: 0.9996 - val_loss: 0.0648 - val_acc: 0.9861\n",
      "Epoch 65/150\n",
      "2587/2587 [==============================] - 1s - loss: 0.0013 - acc: 1.0000 - val_loss: 0.0635 - val_acc: 0.9876\n",
      "Epoch 66/150\n",
      "2587/2587 [==============================] - 1s - loss: 0.0013 - acc: 1.0000 - val_loss: 0.0625 - val_acc: 0.9876\n",
      "Epoch 67/150\n",
      "2587/2587 [==============================] - 1s - loss: 0.0012 - acc: 1.0000 - val_loss: 0.0645 - val_acc: 0.9861\n",
      "Epoch 68/150\n",
      "2587/2587 [==============================] - 1s - loss: 0.0012 - acc: 0.9996 - val_loss: 0.0637 - val_acc: 0.9876\n",
      "Epoch 69/150\n",
      "2587/2587 [==============================] - 1s - loss: 0.0012 - acc: 1.0000 - val_loss: 0.0650 - val_acc: 0.9861\n",
      "Epoch 70/150\n",
      "2587/2587 [==============================] - 1s - loss: 0.0011 - acc: 1.0000 - val_loss: 0.0624 - val_acc: 0.9892\n",
      "Epoch 71/150\n",
      "2587/2587 [==============================] - 1s - loss: 0.0010 - acc: 1.0000 - val_loss: 0.0617 - val_acc: 0.9892\n",
      "Epoch 72/150\n",
      "2587/2587 [==============================] - 1s - loss: 9.6495e-04 - acc: 1.0000 - val_loss: 0.0623 - val_acc: 0.9845\n",
      "Epoch 73/150\n",
      "2587/2587 [==============================] - 1s - loss: 9.4015e-04 - acc: 1.0000 - val_loss: 0.0644 - val_acc: 0.9845\n",
      "Epoch 74/150\n",
      "2587/2587 [==============================] - 1s - loss: 9.4128e-04 - acc: 1.0000 - val_loss: 0.0625 - val_acc: 0.9861\n",
      "Epoch 75/150\n",
      "2587/2587 [==============================] - 1s - loss: 8.6345e-04 - acc: 1.0000 - val_loss: 0.0618 - val_acc: 0.9861\n",
      "Epoch 76/150\n",
      "2587/2587 [==============================] - 1s - loss: 8.3847e-04 - acc: 1.0000 - val_loss: 0.0618 - val_acc: 0.9861\n",
      "Epoch 77/150\n",
      "2587/2587 [==============================] - 1s - loss: 8.1001e-04 - acc: 1.0000 - val_loss: 0.0616 - val_acc: 0.9876\n",
      "Epoch 78/150\n",
      "2587/2587 [==============================] - 1s - loss: 7.8426e-04 - acc: 1.0000 - val_loss: 0.0612 - val_acc: 0.9861\n",
      "Epoch 79/150\n",
      "2587/2587 [==============================] - 1s - loss: 7.4237e-04 - acc: 1.0000 - val_loss: 0.0621 - val_acc: 0.9861\n",
      "Epoch 80/150\n",
      "2587/2587 [==============================] - 1s - loss: 7.3145e-04 - acc: 1.0000 - val_loss: 0.0597 - val_acc: 0.9892\n",
      "Epoch 81/150\n",
      "2587/2587 [==============================] - 1s - loss: 7.0210e-04 - acc: 1.0000 - val_loss: 0.0610 - val_acc: 0.9861\n",
      "Epoch 82/150\n",
      "2587/2587 [==============================] - 1s - loss: 7.7700e-04 - acc: 1.0000 - val_loss: 0.0610 - val_acc: 0.9876\n",
      "Epoch 83/150\n",
      "2587/2587 [==============================] - 1s - loss: 0.0011 - acc: 0.9996 - val_loss: 0.0671 - val_acc: 0.9876\n",
      "Epoch 84/150\n",
      "2587/2587 [==============================] - 1s - loss: 8.6983e-04 - acc: 1.0000 - val_loss: 0.0569 - val_acc: 0.9892\n",
      "Epoch 85/150\n",
      "2587/2587 [==============================] - 1s - loss: 6.6925e-04 - acc: 1.0000 - val_loss: 0.0571 - val_acc: 0.9892\n",
      "Epoch 86/150\n",
      "2587/2587 [==============================] - 1s - loss: 6.4442e-04 - acc: 1.0000 - val_loss: 0.0587 - val_acc: 0.9876\n",
      "Epoch 87/150\n",
      "2587/2587 [==============================] - 1s - loss: 6.0729e-04 - acc: 1.0000 - val_loss: 0.0587 - val_acc: 0.9876\n",
      "Epoch 88/150\n",
      "2587/2587 [==============================] - 1s - loss: 6.0013e-04 - acc: 1.0000 - val_loss: 0.0584 - val_acc: 0.9892\n",
      "Epoch 89/150\n",
      "2587/2587 [==============================] - 1s - loss: 5.8723e-04 - acc: 1.0000 - val_loss: 0.0616 - val_acc: 0.9845\n",
      "Epoch 90/150\n",
      "2587/2587 [==============================] - 1s - loss: 5.7225e-04 - acc: 1.0000 - val_loss: 0.0587 - val_acc: 0.9892\n",
      "Epoch 91/150\n",
      "2587/2587 [==============================] - 1s - loss: 5.5071e-04 - acc: 1.0000 - val_loss: 0.0598 - val_acc: 0.9861\n",
      "Epoch 92/150\n",
      "2587/2587 [==============================] - 1s - loss: 5.3717e-04 - acc: 1.0000 - val_loss: 0.0596 - val_acc: 0.9892\n",
      "Epoch 93/150\n",
      "2587/2587 [==============================] - 1s - loss: 5.3645e-04 - acc: 1.0000 - val_loss: 0.0605 - val_acc: 0.9892\n",
      "Epoch 94/150\n",
      "2587/2587 [==============================] - 1s - loss: 7.1861e-04 - acc: 0.9996 - val_loss: 0.0568 - val_acc: 0.9892\n",
      "Epoch 95/150\n",
      "2587/2587 [==============================] - 1s - loss: 7.6748e-04 - acc: 1.0000 - val_loss: 0.0581 - val_acc: 0.9907\n",
      "Epoch 96/150\n",
      "2587/2587 [==============================] - 1s - loss: 8.2432e-04 - acc: 0.9996 - val_loss: 0.0667 - val_acc: 0.9861\n",
      "Epoch 97/150\n",
      "2587/2587 [==============================] - 1s - loss: 8.9517e-04 - acc: 1.0000 - val_loss: 0.0673 - val_acc: 0.9861\n",
      "Epoch 98/150\n",
      "2587/2587 [==============================] - 1s - loss: 5.9903e-04 - acc: 1.0000 - val_loss: 0.0589 - val_acc: 0.9892\n",
      "Epoch 99/150\n",
      "2587/2587 [==============================] - 1s - loss: 5.2593e-04 - acc: 1.0000 - val_loss: 0.0575 - val_acc: 0.9876\n",
      "Epoch 100/150\n",
      "2587/2587 [==============================] - 1s - loss: 4.9793e-04 - acc: 1.0000 - val_loss: 0.0558 - val_acc: 0.9892\n",
      "Epoch 101/150\n",
      "2587/2587 [==============================] - 1s - loss: 4.8566e-04 - acc: 1.0000 - val_loss: 0.0572 - val_acc: 0.9876\n",
      "Epoch 102/150\n",
      "2587/2587 [==============================] - 1s - loss: 4.7828e-04 - acc: 1.0000 - val_loss: 0.0552 - val_acc: 0.9907\n",
      "Epoch 103/150\n",
      "2587/2587 [==============================] - 1s - loss: 4.6871e-04 - acc: 1.0000 - val_loss: 0.0562 - val_acc: 0.9876\n",
      "Epoch 104/150\n",
      "2587/2587 [==============================] - 1s - loss: 4.5952e-04 - acc: 1.0000 - val_loss: 0.0557 - val_acc: 0.9892\n",
      "Epoch 105/150\n",
      "2587/2587 [==============================] - 1s - loss: 4.5268e-04 - acc: 1.0000 - val_loss: 0.0561 - val_acc: 0.9892\n",
      "Epoch 106/150\n",
      "2587/2587 [==============================] - 1s - loss: 4.4440e-04 - acc: 1.0000 - val_loss: 0.0558 - val_acc: 0.9892\n",
      "Epoch 107/150\n",
      "2587/2587 [==============================] - 1s - loss: 4.4138e-04 - acc: 1.0000 - val_loss: 0.0562 - val_acc: 0.9892\n",
      "Epoch 108/150\n",
      "2587/2587 [==============================] - 1s - loss: 4.3952e-04 - acc: 1.0000 - val_loss: 0.0562 - val_acc: 0.9892\n",
      "Epoch 109/150\n",
      "2587/2587 [==============================] - 1s - loss: 4.3817e-04 - acc: 1.0000 - val_loss: 0.0571 - val_acc: 0.9876\n",
      "Epoch 110/150\n",
      "2587/2587 [==============================] - 1s - loss: 4.2937e-04 - acc: 1.0000 - val_loss: 0.0572 - val_acc: 0.9892\n",
      "Epoch 111/150\n",
      "2587/2587 [==============================] - 1s - loss: 4.2415e-04 - acc: 1.0000 - val_loss: 0.0566 - val_acc: 0.9892\n",
      "Epoch 112/150\n",
      "2587/2587 [==============================] - 1s - loss: 4.1997e-04 - acc: 1.0000 - val_loss: 0.0570 - val_acc: 0.9876\n",
      "Epoch 113/150\n",
      "2587/2587 [==============================] - 1s - loss: 4.1615e-04 - acc: 1.0000 - val_loss: 0.0568 - val_acc: 0.9892\n",
      "Epoch 114/150\n",
      "2587/2587 [==============================] - 1s - loss: 4.1484e-04 - acc: 1.0000 - val_loss: 0.0571 - val_acc: 0.9892\n",
      "Epoch 115/150\n",
      "2587/2587 [==============================] - 1s - loss: 4.0857e-04 - acc: 1.0000 - val_loss: 0.0576 - val_acc: 0.9892\n",
      "Epoch 116/150\n",
      "2587/2587 [==============================] - 1s - loss: 4.0420e-04 - acc: 1.0000 - val_loss: 0.0576 - val_acc: 0.9892\n",
      "Epoch 117/150\n",
      "2587/2587 [==============================] - 1s - loss: 4.0060e-04 - acc: 1.0000 - val_loss: 0.0569 - val_acc: 0.9892\n",
      "Epoch 118/150\n",
      "2587/2587 [==============================] - 1s - loss: 4.0007e-04 - acc: 1.0000 - val_loss: 0.0575 - val_acc: 0.9892\n",
      "Epoch 119/150\n",
      "2587/2587 [==============================] - 1s - loss: 3.9609e-04 - acc: 1.0000 - val_loss: 0.0572 - val_acc: 0.9892\n",
      "Epoch 120/150\n",
      "2587/2587 [==============================] - 1s - loss: 3.9237e-04 - acc: 1.0000 - val_loss: 0.0575 - val_acc: 0.9892\n",
      "Epoch 121/150\n",
      "2587/2587 [==============================] - 1s - loss: 3.8898e-04 - acc: 1.0000 - val_loss: 0.0588 - val_acc: 0.9892\n",
      "Epoch 122/150\n",
      "2587/2587 [==============================] - 1s - loss: 3.8689e-04 - acc: 1.0000 - val_loss: 0.0578 - val_acc: 0.9892\n",
      "Epoch 123/150\n",
      "2587/2587 [==============================] - 1s - loss: 3.8603e-04 - acc: 1.0000 - val_loss: 0.0580 - val_acc: 0.9892\n",
      "Epoch 124/150\n",
      "2587/2587 [==============================] - 1s - loss: 3.8340e-04 - acc: 1.0000 - val_loss: 0.0582 - val_acc: 0.9892\n",
      "Epoch 125/150\n",
      "2587/2587 [==============================] - 1s - loss: 3.7989e-04 - acc: 1.0000 - val_loss: 0.0581 - val_acc: 0.9892\n",
      "Epoch 126/150\n",
      "2587/2587 [==============================] - 1s - loss: 3.7970e-04 - acc: 1.0000 - val_loss: 0.0573 - val_acc: 0.9892\n",
      "Epoch 127/150\n",
      "2587/2587 [==============================] - 1s - loss: 3.7627e-04 - acc: 1.0000 - val_loss: 0.0585 - val_acc: 0.9892\n",
      "Epoch 128/150\n",
      "2587/2587 [==============================] - 1s - loss: 3.7421e-04 - acc: 1.0000 - val_loss: 0.0585 - val_acc: 0.9892\n",
      "Epoch 129/150\n",
      "2587/2587 [==============================] - 1s - loss: 3.7346e-04 - acc: 1.0000 - val_loss: 0.0587 - val_acc: 0.9892\n",
      "Epoch 130/150\n",
      "2587/2587 [==============================] - 1s - loss: 3.7218e-04 - acc: 1.0000 - val_loss: 0.0575 - val_acc: 0.9892\n",
      "Epoch 131/150\n",
      "2587/2587 [==============================] - 1s - loss: 3.6835e-04 - acc: 1.0000 - val_loss: 0.0587 - val_acc: 0.9892\n",
      "Epoch 132/150\n",
      "2587/2587 [==============================] - 1s - loss: 3.6848e-04 - acc: 1.0000 - val_loss: 0.0586 - val_acc: 0.9892\n",
      "Epoch 133/150\n",
      "2587/2587 [==============================] - 1s - loss: 3.6547e-04 - acc: 1.0000 - val_loss: 0.0597 - val_acc: 0.9892\n",
      "Epoch 134/150\n",
      "2587/2587 [==============================] - 1s - loss: 3.6408e-04 - acc: 1.0000 - val_loss: 0.0579 - val_acc: 0.9892\n",
      "Epoch 135/150\n",
      "2587/2587 [==============================] - 1s - loss: 3.6290e-04 - acc: 1.0000 - val_loss: 0.0599 - val_acc: 0.9892\n",
      "Epoch 136/150\n",
      "2587/2587 [==============================] - 1s - loss: 3.5995e-04 - acc: 1.0000 - val_loss: 0.0603 - val_acc: 0.9892\n",
      "Epoch 137/150\n",
      "2587/2587 [==============================] - 1s - loss: 3.5845e-04 - acc: 1.0000 - val_loss: 0.0594 - val_acc: 0.9892\n",
      "Epoch 138/150\n",
      "2587/2587 [==============================] - 1s - loss: 3.5743e-04 - acc: 1.0000 - val_loss: 0.0599 - val_acc: 0.9892\n",
      "Epoch 139/150\n",
      "2587/2587 [==============================] - 1s - loss: 3.5593e-04 - acc: 1.0000 - val_loss: 0.0597 - val_acc: 0.9892\n",
      "Epoch 140/150\n",
      "2587/2587 [==============================] - 1s - loss: 3.5422e-04 - acc: 1.0000 - val_loss: 0.0610 - val_acc: 0.9892\n",
      "Epoch 141/150\n",
      "2587/2587 [==============================] - 1s - loss: 3.5366e-04 - acc: 1.0000 - val_loss: 0.0602 - val_acc: 0.9892\n",
      "Epoch 142/150\n",
      "2587/2587 [==============================] - 1s - loss: 3.5199e-04 - acc: 1.0000 - val_loss: 0.0619 - val_acc: 0.9892\n",
      "Epoch 143/150\n",
      "2587/2587 [==============================] - 1s - loss: 3.5092e-04 - acc: 1.0000 - val_loss: 0.0609 - val_acc: 0.9892\n",
      "Epoch 144/150\n",
      "2587/2587 [==============================] - 1s - loss: 3.4912e-04 - acc: 1.0000 - val_loss: 0.0609 - val_acc: 0.9892\n",
      "Epoch 145/150\n",
      "2587/2587 [==============================] - 1s - loss: 3.4817e-04 - acc: 1.0000 - val_loss: 0.0619 - val_acc: 0.9892\n",
      "Epoch 146/150\n",
      "2587/2587 [==============================] - 1s - loss: 3.4692e-04 - acc: 1.0000 - val_loss: 0.0613 - val_acc: 0.9892\n",
      "Epoch 147/150\n",
      "2587/2587 [==============================] - 1s - loss: 3.4636e-04 - acc: 1.0000 - val_loss: 0.0622 - val_acc: 0.9892\n",
      "Epoch 148/150\n",
      "2587/2587 [==============================] - 1s - loss: 3.4480e-04 - acc: 1.0000 - val_loss: 0.0618 - val_acc: 0.9892\n",
      "Epoch 149/150\n",
      "2587/2587 [==============================] - 1s - loss: 3.4385e-04 - acc: 1.0000 - val_loss: 0.0627 - val_acc: 0.9892\n",
      "Epoch 150/150\n",
      "2587/2587 [==============================] - 1s - loss: 3.4318e-04 - acc: 1.0000 - val_loss: 0.0632 - val_acc: 0.9892\n",
      "640/647 [============================>.] - ETA: 0s"
     ]
    }
   ],
   "source": [
    "history = model.fit(X_train, y_train, nb_epoch=150, batch_size=32, verbose=1, validation_data=(X_test, y_test))\n",
    "results = model.evaluate(X_test, y_test)"
   ]
  },
  {
   "cell_type": "code",
   "execution_count": null,
   "metadata": {
    "colab": {
     "base_uri": "https://localhost:8080/",
     "height": 379
    },
    "id": "GfRwmdY5btld",
    "outputId": "d129a740-d678-4c34-9d79-2b30061fc0cf"
   },
   "outputs": [
    {
     "data": {
      "image/png": "[encoded data removed]",
      "text/plain": [
       "<Figure size 432x288 with 1 Axes>"
      ]
     },
     "metadata": {
      "needs_background": "light",
      "tags": []
     },
     "output_type": "display_data"
    },
    {
     "name": "stdout",
     "output_type": "stream",
     "text": [
      "\n",
      "\n",
      "Accuracy on training set is 1.0\n",
      "\n",
      "Accuracy on test set is 0.9891808346213292\n"
     ]
    }
   ],
   "source": [
    "plt.plot(np.squeeze(history.history[\"loss\"]))\n",
    "plt.ylabel('cost')\n",
    "plt.xlabel('iterations (per tens)')\n",
    "plt.title(\"Learning rate =\" + str(learning_rate))\n",
    "plt.show()\n",
    "\n",
    "\n",
    "print(\"\\n\\nAccuracy on training set is {}\".format(history.history[\"acc\"][-1]))\n",
    "print(\"\\nAccuracy on test set is {}\".format(results[1]))"
   ]
  },
  {
   "cell_type": "code",
   "execution_count": null,
   "metadata": {
    "colab": {
     "base_uri": "https://localhost:8080/"
    },
    "id": "JohihGJIa-GB",
    "outputId": "9b5eeef2-ee4c-451b-dd40-062fba80df0a"
   },
   "outputs": [
    {
     "name": "stdout",
     "output_type": "stream",
     "text": [
      "____________________________________________________________________________________________________\n",
      "Layer (type)                     Output Shape          Param #     Connected to                     \n",
      "====================================================================================================\n",
      "convolution2d_8 (Convolution2D)  (None, 16, 126, 126)  160         convolution2d_input_6[0][0]      \n",
      "____________________________________________________________________________________________________\n",
      "batchnormalization_9 (BatchNorma (None, 16, 126, 126)  504         convolution2d_8[0][0]            \n",
      "____________________________________________________________________________________________________\n",
      "maxpooling2d_8 (MaxPooling2D)    (None, 16, 42, 42)    0           batchnormalization_9[0][0]       \n",
      "____________________________________________________________________________________________________\n",
      "dropout_9 (Dropout)              (None, 16, 42, 42)    0           maxpooling2d_8[0][0]             \n",
      "____________________________________________________________________________________________________\n",
      "convolution2d_9 (Convolution2D)  (None, 32, 40, 40)    4640        dropout_9[0][0]                  \n",
      "____________________________________________________________________________________________________\n",
      "batchnormalization_10 (BatchNorm (None, 32, 40, 40)    160         convolution2d_9[0][0]            \n",
      "____________________________________________________________________________________________________\n",
      "maxpooling2d_9 (MaxPooling2D)    (None, 32, 13, 13)    0           batchnormalization_10[0][0]      \n",
      "____________________________________________________________________________________________________\n",
      "dropout_10 (Dropout)             (None, 32, 13, 13)    0           maxpooling2d_9[0][0]             \n",
      "____________________________________________________________________________________________________\n",
      "convolution2d_10 (Convolution2D) (None, 64, 11, 11)    18496       dropout_10[0][0]                 \n",
      "____________________________________________________________________________________________________\n",
      "batchnormalization_11 (BatchNorm (None, 64, 11, 11)    44          convolution2d_10[0][0]           \n",
      "____________________________________________________________________________________________________\n",
      "maxpooling2d_10 (MaxPooling2D)   (None, 64, 3, 3)      0           batchnormalization_11[0][0]      \n",
      "____________________________________________________________________________________________________\n",
      "dropout_11 (Dropout)             (None, 64, 3, 3)      0           maxpooling2d_10[0][0]            \n",
      "____________________________________________________________________________________________________\n",
      "flatten_6 (Flatten)              (None, 576)           0           dropout_11[0][0]                 \n",
      "____________________________________________________________________________________________________\n",
      "dense_11 (Dense)                 (None, 64)            36928       flatten_6[0][0]                  \n",
      "____________________________________________________________________________________________________\n",
      "batchnormalization_12 (BatchNorm (None, 64)            256         dense_11[0][0]                   \n",
      "____________________________________________________________________________________________________\n",
      "dropout_12 (Dropout)             (None, 64)            0           batchnormalization_12[0][0]      \n",
      "____________________________________________________________________________________________________\n",
      "dense_12 (Dense)                 (None, 3)             195         dropout_12[0][0]                 \n",
      "====================================================================================================\n",
      "Total params: 61,383\n",
      "Trainable params: 60,901\n",
      "Non-trainable params: 482\n",
      "____________________________________________________________________________________________________\n"
     ]
    }
   ],
   "source": [
    "# Defining the model \n",
    "# Feel free to use CNNs/Dense Networks\n",
    "\n",
    "model = Sequential()\n",
    "\n",
    "model.add(Conv2D(16, nb_row=3, nb_col=3, activation='relu', input_shape=X_train.shape[1:]))\n",
    "model.add(BatchNormalization())\n",
    "model.add(MaxPooling2D(pool_size=(3,3), strides=(3,3)))\n",
    "model.add(Dropout(0.4))\n",
    "\n",
    "model.add(Conv2D(32, nb_row=3, nb_col=3, activation='relu'))\n",
    "model.add(BatchNormalization())\n",
    "model.add(MaxPooling2D(pool_size=(3,3), strides=(3,3)))\n",
    "model.add(Dropout(0.4))\n",
    "\n",
    "model.add(Conv2D(64,nb_row=3, nb_col=3, activation='relu'))\n",
    "model.add(BatchNormalization())\n",
    "model.add(MaxPooling2D(pool_size=(3,3), strides=(3,3)))\n",
    "model.add(Dropout(0.4))\n",
    "\n",
    "model.add(Flatten())\n",
    "\n",
    "model.add(Dense(64, activation='relu'))\n",
    "model.add(BatchNormalization())\n",
    "model.add(Dropout(0.5))\n",
    "\n",
    "model.add(Dense(3, activation='softmax'))\n",
    "\n",
    "# Viewing model_configuration\n",
    "model.summary()\n",
    "#model.get_config()\n",
    "#model.layers[0].get_config()\n",
    "#model.layers[0].input_shape\n",
    "#model.layers[0].output_shape\n",
    "#model.layers[0].output\n",
    "#model.layers[0].get_weights()"
   ]
  },
  {
   "cell_type": "code",
   "execution_count": null,
   "metadata": {
    "id": "l6jGg_RtcqNe"
   },
   "outputs": [],
   "source": [
    "from keras.optimizers import Adam\n",
    "learning_rate = 0.0001\n",
    "opt = Adam(lr=learning_rate)\n",
    "model.compile(loss='categorical_crossentropy', optimizer=opt ,metrics=['accuracy'])"
   ]
  },
  {
   "cell_type": "code",
   "execution_count": null,
   "metadata": {
    "colab": {
     "base_uri": "https://localhost:8080/"
    },
    "id": "_c3rKpcecxag",
    "outputId": "108b25c4-d229-4515-907b-b9a866a23116"
   },
   "outputs": [
    {
     "name": "stdout",
     "output_type": "stream",
     "text": [
      "Train on 2587 samples, validate on 647 samples\n",
      "Epoch 1/100\n",
      "2587/2587 [==============================] - 1s - loss: 0.6896 - acc: 0.7178 - val_loss: 0.6170 - val_acc: 0.6940\n",
      "Epoch 2/100\n",
      "2587/2587 [==============================] - 1s - loss: 0.6404 - acc: 0.7267 - val_loss: 0.6328 - val_acc: 0.6677\n",
      "Epoch 3/100\n",
      "2587/2587 [==============================] - 1s - loss: 0.6800 - acc: 0.7221 - val_loss: 0.6308 - val_acc: 0.6692\n",
      "Epoch 4/100\n",
      "2587/2587 [==============================] - 1s - loss: 0.6524 - acc: 0.7240 - val_loss: 0.5938 - val_acc: 0.6924\n",
      "Epoch 5/100\n",
      "2587/2587 [==============================] - 1s - loss: 0.6189 - acc: 0.7341 - val_loss: 0.6134 - val_acc: 0.6708\n",
      "Epoch 6/100\n",
      "2587/2587 [==============================] - 1s - loss: 0.6181 - acc: 0.7371 - val_loss: 0.5709 - val_acc: 0.7110\n",
      "Epoch 7/100\n",
      "2587/2587 [==============================] - 1s - loss: 0.6002 - acc: 0.7453 - val_loss: 0.5749 - val_acc: 0.7002\n",
      "Epoch 8/100\n",
      "2587/2587 [==============================] - 1s - loss: 0.5575 - acc: 0.7638 - val_loss: 0.5691 - val_acc: 0.7032\n",
      "Epoch 9/100\n",
      "2587/2587 [==============================] - 1s - loss: 0.5559 - acc: 0.7634 - val_loss: 0.5616 - val_acc: 0.7110\n",
      "Epoch 10/100\n",
      "2587/2587 [==============================] - 1s - loss: 0.5563 - acc: 0.7553 - val_loss: 0.5586 - val_acc: 0.7032\n",
      "Epoch 11/100\n",
      "2587/2587 [==============================] - 1s - loss: 0.5658 - acc: 0.7654 - val_loss: 0.5353 - val_acc: 0.7233\n",
      "Epoch 12/100\n",
      "2587/2587 [==============================] - 1s - loss: 0.5673 - acc: 0.7646 - val_loss: 0.5287 - val_acc: 0.7280\n",
      "Epoch 13/100\n",
      "2587/2587 [==============================] - 1s - loss: 0.5418 - acc: 0.7654 - val_loss: 0.5251 - val_acc: 0.7295\n",
      "Epoch 14/100\n",
      "2587/2587 [==============================] - 1s - loss: 0.5330 - acc: 0.7580 - val_loss: 0.5175 - val_acc: 0.7326\n",
      "Epoch 15/100\n",
      "2587/2587 [==============================] - 1s - loss: 0.5188 - acc: 0.7812 - val_loss: 0.5090 - val_acc: 0.7403\n",
      "Epoch 16/100\n",
      "2587/2587 [==============================] - 1s - loss: 0.5286 - acc: 0.7812 - val_loss: 0.5005 - val_acc: 0.7372\n",
      "Epoch 17/100\n",
      "2587/2587 [==============================] - 1s - loss: 0.4889 - acc: 0.7851 - val_loss: 0.4796 - val_acc: 0.7512\n",
      "Epoch 18/100\n",
      "2587/2587 [==============================] - 1s - loss: 0.4674 - acc: 0.8025 - val_loss: 0.4886 - val_acc: 0.7465\n",
      "Epoch 19/100\n",
      "2587/2587 [==============================] - 1s - loss: 0.4717 - acc: 0.7959 - val_loss: 0.4838 - val_acc: 0.7481\n",
      "Epoch 20/100\n",
      "2587/2587 [==============================] - 2s - loss: 0.4846 - acc: 0.7909 - val_loss: 0.4983 - val_acc: 0.7280\n",
      "Epoch 21/100\n",
      "2587/2587 [==============================] - 1s - loss: 0.4723 - acc: 0.7959 - val_loss: 0.4764 - val_acc: 0.7450\n",
      "Epoch 22/100\n",
      "2587/2587 [==============================] - 1s - loss: 0.4591 - acc: 0.7990 - val_loss: 0.4768 - val_acc: 0.7372\n",
      "Epoch 23/100\n",
      "2587/2587 [==============================] - 1s - loss: 0.4326 - acc: 0.8172 - val_loss: 0.4525 - val_acc: 0.7604\n",
      "Epoch 24/100\n",
      "2587/2587 [==============================] - 1s - loss: 0.4142 - acc: 0.8280 - val_loss: 0.4549 - val_acc: 0.7589\n",
      "Epoch 25/100\n",
      "2587/2587 [==============================] - 1s - loss: 0.4383 - acc: 0.8121 - val_loss: 0.4357 - val_acc: 0.7651\n",
      "Epoch 26/100\n",
      "2587/2587 [==============================] - 1s - loss: 0.4442 - acc: 0.8079 - val_loss: 0.4442 - val_acc: 0.7573\n",
      "Epoch 27/100\n",
      "2587/2587 [==============================] - 1s - loss: 0.4052 - acc: 0.8307 - val_loss: 0.4269 - val_acc: 0.7682\n",
      "Epoch 28/100\n",
      "2587/2587 [==============================] - 1s - loss: 0.4167 - acc: 0.8241 - val_loss: 0.4450 - val_acc: 0.7496\n",
      "Epoch 29/100\n",
      "2587/2587 [==============================] - 1s - loss: 0.4062 - acc: 0.8222 - val_loss: 0.4335 - val_acc: 0.7512\n",
      "Epoch 30/100\n",
      "2587/2587 [==============================] - 1s - loss: 0.4089 - acc: 0.8326 - val_loss: 0.4352 - val_acc: 0.7496\n",
      "Epoch 31/100\n",
      "2587/2587 [==============================] - 1s - loss: 0.3783 - acc: 0.8415 - val_loss: 0.4301 - val_acc: 0.7543\n",
      "Epoch 32/100\n",
      "2587/2587 [==============================] - 1s - loss: 0.3748 - acc: 0.8353 - val_loss: 0.3996 - val_acc: 0.7728\n",
      "Epoch 33/100\n",
      "2587/2587 [==============================] - 1s - loss: 0.3586 - acc: 0.8508 - val_loss: 0.3811 - val_acc: 0.7852\n",
      "Epoch 34/100\n",
      "2587/2587 [==============================] - 1s - loss: 0.3762 - acc: 0.8373 - val_loss: 0.3778 - val_acc: 0.7867\n",
      "Epoch 35/100\n",
      "2587/2587 [==============================] - 1s - loss: 0.3615 - acc: 0.8496 - val_loss: 0.3902 - val_acc: 0.7774\n",
      "Epoch 36/100\n",
      "2587/2587 [==============================] - 1s - loss: 0.3467 - acc: 0.8469 - val_loss: 0.4105 - val_acc: 0.7759\n",
      "Epoch 37/100\n",
      "2587/2587 [==============================] - 1s - loss: 0.3507 - acc: 0.8547 - val_loss: 0.3928 - val_acc: 0.7805\n",
      "Epoch 38/100\n",
      "2587/2587 [==============================] - 1s - loss: 0.3473 - acc: 0.8531 - val_loss: 0.3556 - val_acc: 0.7975\n",
      "Epoch 39/100\n",
      "2587/2587 [==============================] - 1s - loss: 0.3482 - acc: 0.8508 - val_loss: 0.3650 - val_acc: 0.7898\n",
      "Epoch 40/100\n",
      "2587/2587 [==============================] - 1s - loss: 0.3477 - acc: 0.8612 - val_loss: 0.3589 - val_acc: 0.7960\n",
      "Epoch 41/100\n",
      "2587/2587 [==============================] - 1s - loss: 0.3334 - acc: 0.8612 - val_loss: 0.3682 - val_acc: 0.7852\n",
      "Epoch 42/100\n",
      "2587/2587 [==============================] - 1s - loss: 0.3353 - acc: 0.8620 - val_loss: 0.3633 - val_acc: 0.7883\n",
      "Epoch 43/100\n",
      "2587/2587 [==============================] - 1s - loss: 0.3123 - acc: 0.8709 - val_loss: 0.3581 - val_acc: 0.7944\n",
      "Epoch 44/100\n",
      "2587/2587 [==============================] - 1s - loss: 0.2913 - acc: 0.8852 - val_loss: 0.3592 - val_acc: 0.7944\n",
      "Epoch 45/100\n",
      "2587/2587 [==============================] - 1s - loss: 0.3060 - acc: 0.8817 - val_loss: 0.3381 - val_acc: 0.8114\n",
      "Epoch 46/100\n",
      "2587/2587 [==============================] - 1s - loss: 0.2972 - acc: 0.8836 - val_loss: 0.3356 - val_acc: 0.8114\n",
      "Epoch 47/100\n",
      "2587/2587 [==============================] - 1s - loss: 0.3082 - acc: 0.8821 - val_loss: 0.3289 - val_acc: 0.8192\n",
      "Epoch 48/100\n",
      "2587/2587 [==============================] - 1s - loss: 0.3046 - acc: 0.8728 - val_loss: 0.3201 - val_acc: 0.8130\n",
      "Epoch 49/100\n",
      "2587/2587 [==============================] - 1s - loss: 0.2838 - acc: 0.8833 - val_loss: 0.3043 - val_acc: 0.8269\n",
      "Epoch 50/100\n",
      "2587/2587 [==============================] - 1s - loss: 0.2985 - acc: 0.8779 - val_loss: 0.3376 - val_acc: 0.8083\n",
      "Epoch 51/100\n",
      "2587/2587 [==============================] - 1s - loss: 0.2820 - acc: 0.8875 - val_loss: 0.3065 - val_acc: 0.8253\n",
      "Epoch 52/100\n",
      "2587/2587 [==============================] - 1s - loss: 0.2816 - acc: 0.8848 - val_loss: 0.2867 - val_acc: 0.8470\n",
      "Epoch 53/100\n",
      "2587/2587 [==============================] - 1s - loss: 0.2619 - acc: 0.8925 - val_loss: 0.2864 - val_acc: 0.8454\n",
      "Epoch 54/100\n",
      "2587/2587 [==============================] - 1s - loss: 0.2732 - acc: 0.8902 - val_loss: 0.2643 - val_acc: 0.8671\n",
      "Epoch 55/100\n",
      "2587/2587 [==============================] - 1s - loss: 0.2536 - acc: 0.8949 - val_loss: 0.2826 - val_acc: 0.8516\n",
      "Epoch 56/100\n",
      "2587/2587 [==============================] - 1s - loss: 0.2513 - acc: 0.9007 - val_loss: 0.2820 - val_acc: 0.8501\n",
      "Epoch 57/100\n",
      "2587/2587 [==============================] - 1s - loss: 0.2421 - acc: 0.9099 - val_loss: 0.2649 - val_acc: 0.8655\n",
      "Epoch 58/100\n",
      "2587/2587 [==============================] - 1s - loss: 0.2428 - acc: 0.9014 - val_loss: 0.2560 - val_acc: 0.8671\n",
      "Epoch 59/100\n",
      "2587/2587 [==============================] - 1s - loss: 0.2505 - acc: 0.9022 - val_loss: 0.2478 - val_acc: 0.8733\n",
      "Epoch 60/100\n",
      "2587/2587 [==============================] - 1s - loss: 0.2558 - acc: 0.9030 - val_loss: 0.2622 - val_acc: 0.8655\n",
      "Epoch 61/100\n",
      "2587/2587 [==============================] - 1s - loss: 0.2307 - acc: 0.9123 - val_loss: 0.2472 - val_acc: 0.8702\n",
      "Epoch 62/100\n",
      "2587/2587 [==============================] - 1s - loss: 0.2464 - acc: 0.9099 - val_loss: 0.2366 - val_acc: 0.8748\n",
      "Epoch 63/100\n",
      "2587/2587 [==============================] - 1s - loss: 0.2025 - acc: 0.9169 - val_loss: 0.2293 - val_acc: 0.8779\n",
      "Epoch 64/100\n",
      "2587/2587 [==============================] - 1s - loss: 0.2366 - acc: 0.9130 - val_loss: 0.2183 - val_acc: 0.8949\n",
      "Epoch 65/100\n",
      "2587/2587 [==============================] - 1s - loss: 0.2039 - acc: 0.9177 - val_loss: 0.2206 - val_acc: 0.8872\n",
      "Epoch 66/100\n",
      "2587/2587 [==============================] - 1s - loss: 0.2172 - acc: 0.9192 - val_loss: 0.2152 - val_acc: 0.8934\n",
      "Epoch 67/100\n",
      "2587/2587 [==============================] - 1s - loss: 0.2236 - acc: 0.9150 - val_loss: 0.2151 - val_acc: 0.8949\n",
      "Epoch 68/100\n",
      "2587/2587 [==============================] - 1s - loss: 0.2128 - acc: 0.9119 - val_loss: 0.2087 - val_acc: 0.8949\n",
      "Epoch 69/100\n",
      "2587/2587 [==============================] - 1s - loss: 0.2076 - acc: 0.9196 - val_loss: 0.1984 - val_acc: 0.9150\n",
      "Epoch 70/100\n",
      "2587/2587 [==============================] - 1s - loss: 0.2010 - acc: 0.9215 - val_loss: 0.2080 - val_acc: 0.9088\n",
      "Epoch 71/100\n",
      "2587/2587 [==============================] - 1s - loss: 0.1798 - acc: 0.9300 - val_loss: 0.1796 - val_acc: 0.9181\n",
      "Epoch 72/100\n",
      "2587/2587 [==============================] - 1s - loss: 0.1922 - acc: 0.9293 - val_loss: 0.1737 - val_acc: 0.9243\n",
      "Epoch 73/100\n",
      "2587/2587 [==============================] - 1s - loss: 0.1761 - acc: 0.9382 - val_loss: 0.1687 - val_acc: 0.9289\n",
      "Epoch 74/100\n",
      "2587/2587 [==============================] - 1s - loss: 0.1975 - acc: 0.9289 - val_loss: 0.1502 - val_acc: 0.9490\n",
      "Epoch 75/100\n",
      "2587/2587 [==============================] - 1s - loss: 0.1907 - acc: 0.9285 - val_loss: 0.1754 - val_acc: 0.9274\n",
      "Epoch 76/100\n",
      "2587/2587 [==============================] - 1s - loss: 0.1892 - acc: 0.9219 - val_loss: 0.1465 - val_acc: 0.9521\n",
      "Epoch 77/100\n",
      "2587/2587 [==============================] - 1s - loss: 0.1754 - acc: 0.9304 - val_loss: 0.1423 - val_acc: 0.9552\n",
      "Epoch 78/100\n",
      "2587/2587 [==============================] - 1s - loss: 0.1737 - acc: 0.9347 - val_loss: 0.1517 - val_acc: 0.9521\n",
      "Epoch 79/100\n",
      "2587/2587 [==============================] - 1s - loss: 0.1700 - acc: 0.9382 - val_loss: 0.1375 - val_acc: 0.9567\n",
      "Epoch 80/100\n",
      "2587/2587 [==============================] - 1s - loss: 0.1681 - acc: 0.9354 - val_loss: 0.1252 - val_acc: 0.9614\n",
      "Epoch 81/100\n",
      "2587/2587 [==============================] - 1s - loss: 0.1650 - acc: 0.9335 - val_loss: 0.1343 - val_acc: 0.9552\n",
      "Epoch 82/100\n",
      "2587/2587 [==============================] - 1s - loss: 0.1534 - acc: 0.9420 - val_loss: 0.1220 - val_acc: 0.9691\n",
      "Epoch 83/100\n",
      "2587/2587 [==============================] - 1s - loss: 0.1556 - acc: 0.9424 - val_loss: 0.1192 - val_acc: 0.9691\n",
      "Epoch 84/100\n",
      "2587/2587 [==============================] - 1s - loss: 0.1510 - acc: 0.9416 - val_loss: 0.1311 - val_acc: 0.9567\n",
      "Epoch 85/100\n",
      "2587/2587 [==============================] - 1s - loss: 0.1546 - acc: 0.9393 - val_loss: 0.1289 - val_acc: 0.9614\n",
      "Epoch 86/100\n",
      "2587/2587 [==============================] - 1s - loss: 0.1550 - acc: 0.9409 - val_loss: 0.1225 - val_acc: 0.9660\n",
      "Epoch 87/100\n",
      "2587/2587 [==============================] - 1s - loss: 0.1517 - acc: 0.9463 - val_loss: 0.1136 - val_acc: 0.9691\n",
      "Epoch 88/100\n",
      "2587/2587 [==============================] - 1s - loss: 0.1377 - acc: 0.9505 - val_loss: 0.1016 - val_acc: 0.9722\n",
      "Epoch 89/100\n",
      "2587/2587 [==============================] - 1s - loss: 0.1410 - acc: 0.9470 - val_loss: 0.1051 - val_acc: 0.9691\n",
      "Epoch 90/100\n",
      "2587/2587 [==============================] - 1s - loss: 0.1532 - acc: 0.9467 - val_loss: 0.0973 - val_acc: 0.9753\n",
      "Epoch 91/100\n",
      "2587/2587 [==============================] - 1s - loss: 0.1401 - acc: 0.9525 - val_loss: 0.1204 - val_acc: 0.9629\n",
      "Epoch 92/100\n",
      "2587/2587 [==============================] - 1s - loss: 0.1454 - acc: 0.9440 - val_loss: 0.0941 - val_acc: 0.9737\n",
      "Epoch 93/100\n",
      "2587/2587 [==============================] - 1s - loss: 0.1366 - acc: 0.9482 - val_loss: 0.0877 - val_acc: 0.9753\n",
      "Epoch 94/100\n",
      "2587/2587 [==============================] - 1s - loss: 0.1209 - acc: 0.9586 - val_loss: 0.1072 - val_acc: 0.9691\n",
      "Epoch 95/100\n",
      "2587/2587 [==============================] - 1s - loss: 0.1313 - acc: 0.9501 - val_loss: 0.1021 - val_acc: 0.9706\n",
      "Epoch 96/100\n",
      "2587/2587 [==============================] - 1s - loss: 0.1261 - acc: 0.9525 - val_loss: 0.0947 - val_acc: 0.9722\n",
      "Epoch 97/100\n",
      "2587/2587 [==============================] - 1s - loss: 0.1236 - acc: 0.9583 - val_loss: 0.0988 - val_acc: 0.9722\n",
      "Epoch 98/100\n",
      "2587/2587 [==============================] - 1s - loss: 0.1170 - acc: 0.9555 - val_loss: 0.0855 - val_acc: 0.9768\n",
      "Epoch 99/100\n",
      "2587/2587 [==============================] - 1s - loss: 0.1306 - acc: 0.9544 - val_loss: 0.0893 - val_acc: 0.9737\n",
      "Epoch 100/100\n",
      "2587/2587 [==============================] - 1s - loss: 0.1306 - acc: 0.9552 - val_loss: 0.0756 - val_acc: 0.9784\n",
      "640/647 [============================>.] - ETA: 0s"
     ]
    }
   ],
   "source": [
    "history = model.fit(X_train, y_train, nb_epoch=100, batch_size=32, verbose=1, validation_data=(X_test, y_test))\n",
    "results = model.evaluate(X_test, y_test)"
   ]
  },
  {
   "cell_type": "code",
   "execution_count": null,
   "metadata": {
    "colab": {
     "base_uri": "https://localhost:8080/"
    },
    "id": "HfDaF2yjc3zs",
    "outputId": "7af82f63-e3c2-4710-b47b-f457f8eae40d"
   },
   "outputs": [
    {
     "name": "stdout",
     "output_type": "stream",
     "text": [
      "____________________________________________________________________________________________________\n",
      "Layer (type)                     Output Shape          Param #     Connected to                     \n",
      "====================================================================================================\n",
      "convolution2d_32 (Convolution2D) (None, 32, 126, 126)  320         convolution2d_input_14[0][0]     \n",
      "____________________________________________________________________________________________________\n",
      "maxpooling2d_32 (MaxPooling2D)   (None, 32, 63, 63)    0           convolution2d_32[0][0]           \n",
      "____________________________________________________________________________________________________\n",
      "convolution2d_33 (Convolution2D) (None, 64, 61, 61)    18496       maxpooling2d_32[0][0]            \n",
      "____________________________________________________________________________________________________\n",
      "maxpooling2d_33 (MaxPooling2D)   (None, 64, 30, 30)    0           convolution2d_33[0][0]           \n",
      "____________________________________________________________________________________________________\n",
      "convolution2d_34 (Convolution2D) (None, 128, 28, 28)   73856       maxpooling2d_33[0][0]            \n",
      "____________________________________________________________________________________________________\n",
      "maxpooling2d_34 (MaxPooling2D)   (None, 128, 14, 14)   0           convolution2d_34[0][0]           \n",
      "____________________________________________________________________________________________________\n",
      "flatten_14 (Flatten)             (None, 25088)         0           maxpooling2d_34[0][0]            \n",
      "____________________________________________________________________________________________________\n",
      "dense_41 (Dense)                 (None, 32)            802848      flatten_14[0][0]                 \n",
      "____________________________________________________________________________________________________\n",
      "dense_42 (Dense)                 (None, 64)            2112        dense_41[0][0]                   \n",
      "____________________________________________________________________________________________________\n",
      "dense_43 (Dense)                 (None, 128)           8320        dense_42[0][0]                   \n",
      "____________________________________________________________________________________________________\n",
      "dense_44 (Dense)                 (None, 3)             387         dense_43[0][0]                   \n",
      "====================================================================================================\n",
      "Total params: 906,339\n",
      "Trainable params: 906,339\n",
      "Non-trainable params: 0\n",
      "____________________________________________________________________________________________________\n"
     ]
    }
   ],
   "source": [
    "# Defining the model \n",
    "# Feel free to use CNNs/Dense Networks\n",
    "\n",
    "model = Sequential()\n",
    "\n",
    "model.add(Conv2D(32, nb_row=3, nb_col=3, activation='relu', input_shape=X_train.shape[1:]))\n",
    "model.add(MaxPooling2D(pool_size=(2,2), strides=(2,2)))\n",
    "\n",
    "model.add(Conv2D(64, nb_row=3, nb_col=3, activation='relu'))\n",
    "model.add(MaxPooling2D(pool_size=(2,2), strides=(2,2)))\n",
    "\n",
    "model.add(Conv2D(128,nb_row=3, nb_col=3, activation='relu'))\n",
    "model.add(MaxPooling2D(pool_size=(2,2), strides=(2,2)))\n",
    "\n",
    "model.add(Flatten())\n",
    "\n",
    "model.add(Dense(32, activation='sigmoid'))\n",
    "model.add(Dense(64, activation='sigmoid'))\n",
    "model.add(Dense(128, activation='sigmoid'))\n",
    "\n",
    "model.add(Dense(3, activation='softmax'))\n",
    "\n",
    "# Viewing model_configuration\n",
    "model.summary()\n",
    "#model.get_config()\n",
    "#model.layers[0].get_config()\n",
    "#model.layers[0].input_shape\n",
    "#model.layers[0].output_shape\n",
    "#model.layers[0].output\n",
    "#model.layers[0].get_weights()"
   ]
  },
  {
   "cell_type": "code",
   "execution_count": null,
   "metadata": {
    "id": "MAp-otpbeS53"
   },
   "outputs": [],
   "source": [
    "from keras.optimizers import Adam\n",
    "learning_rate = 0.0001\n",
    "opt = Adam(lr=learning_rate)\n",
    "model.compile(loss='categorical_crossentropy', optimizer=opt ,metrics=['accuracy'])"
   ]
  },
  {
   "cell_type": "code",
   "execution_count": null,
   "metadata": {
    "colab": {
     "base_uri": "https://localhost:8080/"
    },
    "id": "eixqgy7MeVNT",
    "outputId": "aa7c1056-ebcf-4d54-faaf-adf4d5fca770"
   },
   "outputs": [
    {
     "name": "stdout",
     "output_type": "stream",
     "text": [
      "Train on 2587 samples, validate on 647 samples\n",
      "Epoch 1/25\n",
      "2587/2587 [==============================] - 2s - loss: 1.0319 - acc: 0.5311 - val_loss: 0.9663 - val_acc: 0.5719\n",
      "Epoch 2/25\n",
      "2587/2587 [==============================] - 1s - loss: 0.9353 - acc: 0.6332 - val_loss: 0.8801 - val_acc: 0.6692\n",
      "Epoch 3/25\n",
      "2587/2587 [==============================] - 1s - loss: 0.8373 - acc: 0.6811 - val_loss: 0.7709 - val_acc: 0.7218\n",
      "Epoch 4/25\n",
      "2587/2587 [==============================] - 1s - loss: 0.7266 - acc: 0.7228 - val_loss: 0.6557 - val_acc: 0.7481\n",
      "Epoch 5/25\n",
      "2587/2587 [==============================] - 1s - loss: 0.6139 - acc: 0.7487 - val_loss: 0.5559 - val_acc: 0.7697\n",
      "Epoch 6/25\n",
      "2587/2587 [==============================] - 1s - loss: 0.5240 - acc: 0.7596 - val_loss: 0.4777 - val_acc: 0.7743\n",
      "Epoch 7/25\n",
      "2587/2587 [==============================] - 1s - loss: 0.4599 - acc: 0.8141 - val_loss: 0.4256 - val_acc: 0.9397\n",
      "Epoch 8/25\n",
      "2587/2587 [==============================] - 1s - loss: 0.4059 - acc: 0.8713 - val_loss: 0.3745 - val_acc: 0.9366\n",
      "Epoch 9/25\n",
      "2587/2587 [==============================] - 1s - loss: 0.3584 - acc: 0.9401 - val_loss: 0.3319 - val_acc: 0.9768\n",
      "Epoch 10/25\n",
      "2587/2587 [==============================] - 1s - loss: 0.3168 - acc: 0.9772 - val_loss: 0.2953 - val_acc: 0.9815\n",
      "Epoch 11/25\n",
      "2587/2587 [==============================] - 1s - loss: 0.2785 - acc: 0.9876 - val_loss: 0.2553 - val_acc: 0.9892\n",
      "Epoch 12/25\n",
      "2587/2587 [==============================] - 1s - loss: 0.2379 - acc: 0.9930 - val_loss: 0.2206 - val_acc: 0.9830\n",
      "Epoch 13/25\n",
      "2587/2587 [==============================] - 1s - loss: 0.2023 - acc: 0.9946 - val_loss: 0.1849 - val_acc: 0.9861\n",
      "Epoch 14/25\n",
      "2587/2587 [==============================] - 1s - loss: 0.1682 - acc: 0.9973 - val_loss: 0.1536 - val_acc: 0.9938\n",
      "Epoch 15/25\n",
      "2587/2587 [==============================] - 1s - loss: 0.1397 - acc: 0.9973 - val_loss: 0.1336 - val_acc: 0.9938\n",
      "Epoch 16/25\n",
      "2587/2587 [==============================] - 1s - loss: 0.1199 - acc: 0.9969 - val_loss: 0.1140 - val_acc: 0.9938\n",
      "Epoch 17/25\n",
      "2587/2587 [==============================] - 1s - loss: 0.1012 - acc: 0.9981 - val_loss: 0.0905 - val_acc: 0.9985\n",
      "Epoch 18/25\n",
      "2587/2587 [==============================] - 1s - loss: 0.0834 - acc: 0.9981 - val_loss: 0.0762 - val_acc: 0.9969\n",
      "Epoch 19/25\n",
      "2587/2587 [==============================] - 1s - loss: 0.0701 - acc: 0.9981 - val_loss: 0.0666 - val_acc: 0.9969\n",
      "Epoch 20/25\n",
      "2587/2587 [==============================] - 1s - loss: 0.0588 - acc: 0.9981 - val_loss: 0.0568 - val_acc: 0.9969\n",
      "Epoch 21/25\n",
      "2587/2587 [==============================] - 1s - loss: 0.0513 - acc: 0.9981 - val_loss: 0.0502 - val_acc: 0.9985\n",
      "Epoch 22/25\n",
      "2587/2587 [==============================] - 1s - loss: 0.0443 - acc: 0.9981 - val_loss: 0.0445 - val_acc: 0.9985\n",
      "Epoch 23/25\n",
      "2587/2587 [==============================] - 1s - loss: 0.0377 - acc: 0.9981 - val_loss: 0.0385 - val_acc: 0.9985\n",
      "Epoch 24/25\n",
      "2587/2587 [==============================] - 1s - loss: 0.0320 - acc: 0.9981 - val_loss: 0.0340 - val_acc: 0.9985\n",
      "Epoch 25/25\n",
      "2587/2587 [==============================] - 1s - loss: 0.0286 - acc: 0.9981 - val_loss: 0.0314 - val_acc: 0.9985\n",
      "640/647 [============================>.] - ETA: 0s"
     ]
    }
   ],
   "source": [
    "history = model.fit(X_train, y_train, nb_epoch=25, batch_size=32, verbose=1, validation_data=(X_test, y_test))\n",
    "results = model.evaluate(X_test, y_test)"
   ]
  },
  {
   "cell_type": "code",
   "execution_count": null,
   "metadata": {
    "colab": {
     "base_uri": "https://localhost:8080/",
     "height": 379
    },
    "id": "JSwy3CV0er4a",
    "outputId": "99e4f0f7-5a9d-4904-f9f2-fb33fa651b74"
   },
   "outputs": [
    {
     "data": {
      "image/png": "[encoded data removed]",
      "text/plain": [
       "<Figure size 432x288 with 1 Axes>"
      ]
     },
     "metadata": {
      "needs_background": "light",
      "tags": []
     },
     "output_type": "display_data"
    },
    {
     "name": "stdout",
     "output_type": "stream",
     "text": [
      "\n",
      "\n",
      "Accuracy on training set is 0.998067259373792\n",
      "\n",
      "Accuracy on test set is 0.9984544049459042\n"
     ]
    }
   ],
   "source": [
    "plt.plot(np.squeeze(history.history[\"loss\"]))\n",
    "plt.ylabel('cost')\n",
    "plt.xlabel('iterations (per tens)')\n",
    "plt.title(\"Learning rate =\" + str(learning_rate))\n",
    "plt.show()\n",
    "\n",
    "\n",
    "print(\"\\n\\nAccuracy on training set is {}\".format(history.history[\"acc\"][-1]))\n",
    "print(\"\\nAccuracy on test set is {}\".format(results[1]))"
   ]
  },
  {
   "cell_type": "code",
   "execution_count": null,
   "metadata": {
    "id": "ZQ8enWDdhJxd"
   },
   "outputs": [],
   "source": [
    "# Checkpointer through Call-backs weights save on best model \n",
    "\n",
    "# model saving \n",
    "from keras.models import model_from_json\n",
    "from keras.models import load_model\n",
    "\n"
   ]
  },
  {
   "cell_type": "code",
   "execution_count": null,
   "metadata": {
    "colab": {
     "base_uri": "https://localhost:8080/"
    },
    "id": "uwQyDu8Yi-rq",
    "outputId": "a17287b7-91d7-4e3e-c059-ed50cbbb8266"
   },
   "outputs": [
    {
     "name": "stdout",
     "output_type": "stream",
     "text": [
      "Saved model to disk\n"
     ]
    }
   ],
   "source": [
    "# serialize model to JSON\n",
    "model_json = model.to_json()\n",
    "with open(\"model.json\", \"w\") as json_file:\n",
    "    json_file.write(model_json)\n",
    "# serialize weights to HDF5\n",
    "model.save_weights(\"model.h5\")\n",
    "print(\"Saved model to disk\")\n",
    "\n"
   ]
  },
  {
   "cell_type": "code",
   "execution_count": null,
   "metadata": {
    "colab": {
     "base_uri": "https://localhost:8080/"
    },
    "id": "IkL1Q1KJjAJF",
    "outputId": "4c633133-9537-467e-cfe1-77089f156dfb"
   },
   "outputs": [
    {
     "name": "stdout",
     "output_type": "stream",
     "text": [
      "Loaded model from disk\n"
     ]
    }
   ],
   "source": [
    "# load json and create model\n",
    "json_file = open('model.json', 'r')\n",
    "loaded_model_json = json_file.read()\n",
    "json_file.close()\n",
    "loaded_model = model_from_json(loaded_model_json)\n",
    "# load weights into new model\n",
    "loaded_model.load_weights(\"model.h5\")\n",
    "print(\"Loaded model from disk\")\n",
    "\n",
    "# Save the model in hdf5 file\n",
    "model.save('my_model')\n",
    "\n",
    "# Load the saved model\n",
    "loaded_model= load_model('my_model')"
   ]
  },
  {
   "cell_type": "code",
   "execution_count": null,
   "metadata": {
    "id": "35hgsGoOjCEh"
   },
   "outputs": [],
   "source": [
    "loaded_model= load_model('my_model')"
   ]
  },
  {
   "cell_type": "code",
   "execution_count": null,
   "metadata": {
    "colab": {
     "base_uri": "https://localhost:8080/"
    },
    "id": "pAOK0iwtjD79",
    "outputId": "cb94673d-d257-4952-bce2-745188e68b0f"
   },
   "outputs": [
    {
     "name": "stdout",
     "output_type": "stream",
     "text": [
      "647/647 [==============================] - 0s     \n",
      "Test Loss: 0.03142496463561998\n",
      "Test accuracy: 0.9984544049459042\n"
     ]
    }
   ],
   "source": [
    "# Evaluate the model w.r.t Test Loss and Test Accuracy\n",
    "score = model.evaluate(X_test, y_test)\n",
    "print('Test Loss:', score[0])\n",
    "print('Test accuracy:', score[1])"
   ]
  },
  {
   "cell_type": "code",
   "execution_count": null,
   "metadata": {
    "id": "kODCJOqCjFeF"
   },
   "outputs": [],
   "source": [
    "Y_pred = model.predict(X_test)\n"
   ]
  },
  {
   "cell_type": "code",
   "execution_count": null,
   "metadata": {
    "colab": {
     "base_uri": "https://localhost:8080/",
     "height": 798
    },
    "id": "-KlguFk0jIBd",
    "outputId": "e1bb12ff-3d96-4809-9332-e205e0611787"
   },
   "outputs": [
    {
     "name": "stdout",
     "output_type": "stream",
     "text": [
      "[[0.01861342 0.97307056 0.00831595]\n",
      " [0.0118167  0.9824561  0.00572723]\n",
      " [0.00129707 0.01160904 0.98709387]\n",
      " ...\n",
      " [0.00355589 0.00273804 0.99370605]\n",
      " [0.06911533 0.9251504  0.00573424]\n",
      " [0.01040254 0.9825059  0.00709154]]\n",
      "640/647 [============================>.] - ETA: 0s[1 1 2 2 2 1 2 1 2 1 0 2 2 2 2 2 2 0 1 2 2 2 1 2 1 0 0 0 0 2 2 2 2 1 1 1 1\n",
      " 1 0 0 2 1 1 1 0 2 2 2 2 2 2 0 1 1 0 1 2 0 2 1 2 2 2 1 1 2 0 1 0 2 2 2 2 2\n",
      " 2 1 1 1 0 0 2 0 0 0 1 2 2 1 2 0 1 2 1 1 1 1 1 1 1 2 1 2 0 2 1 2 2 1 1 0 1\n",
      " 2 0 2 0 2 1 0 0 1 0 2 1 2 0 2 1 0 2 2 2 0 2 2 2 1 2 2 1 2 2 1 2 0 0 2 2 2\n",
      " 2 1 0 1 1 1 1 0 0 0 1 2 2 2 2 0 1 2 2 2 0 1 2 0 2 2 1 2 2 1 1 2 1 1 2 1 0\n",
      " 1 2 1 0 1 0 1 2 0 2 0 2 0 2 1 1 2 2 1 1 2 2 2 2 1 2 0 2 1 1 2 2 2 2 2 0 2\n",
      " 1 2 0 2 0 1 0 1 2 2 2 1 1 0 1 0 2 2 0 2 1 2 1 2 0 1 2 0 2 2 1 2 0 2 1 2 0\n",
      " 2 1 1 2 2 2 2 0 0 2 1 2 0 1 2 2 1 2 2 0 1 2 0 0 1 2 2 2 0 0 2 2 2 2 2 2 2\n",
      " 1 1 2 1 1 0 2 0 1 2 2 2 1 1 2 2 2 0 1 1 1 1 1 2 2 0 2 2 0 0 0 2 0 2 0 2 2\n",
      " 2 0 2 2 0 2 0 1 1 1 1 2 0 0 1 2 1 2 2 0 1 1 0 2 2 2 1 2 1 1 1 1 1 2 2 2 1\n",
      " 2 2 2 0 0 2 1 0 1 1 1 1 2 0 2 1 1 2 1 0 1 2 2 0 2 2 2 1 2 2 2 2 2 2 1 1 2\n",
      " 0 0 1 1 0 1 1 1 1 2 2 2 1 2 1 1 0 1 2 1 1 1 1 1 2 2 0 2 2 0 1 0 0 0 2 2 0\n",
      " 2 2 1 2 1 1 2 2 0 2 2 0 1 1 1 1 2 1 2 1 2 0 2 1 2 1 0 2 2 0 2 1 1 2 1 2 0\n",
      " 2 1 2 0 1 2 1 0 2 2 2 0 1 0 2 2 1 1 2 1 2 2 2 0 2 1 1 1 2 1 2 2 1 1 2 2 2\n",
      " 2 2 1 0 1 2 0 1 1 1 1 2 2 2 0 1 1 1 1 1 2 0 1 0 1 0 1 1 2 1 2 1 2 2 0 0 1\n",
      " 1 1 0 1 2 2 1 2 2 1 0 2 0 2 2 2 1 0 1 2 0 2 2 2 2 1 2 2 0 2 0 2 2 2 2 2 2\n",
      " 2 0 2 1 2 1 2 2 0 0 2 0 2 1 2 1 0 1 0 1 2 0 0 2 2 2 0 0 1 2 2 2 2 0 0 2 1\n",
      " 0 2 1 1 1 1 2 2 0 1 2 1 0 2 2 2 1 1]\n",
      "Confusion matrix, without normalization\n",
      "[[138   0   0]\n",
      " [  0 215   1]\n",
      " [  0   0 293]]\n"
     ]
    },
    {
     "data": {
      "image/png": "[encoded data removed]",
      "text/plain": [
       "<Figure size 432x288 with 2 Axes>"
      ]
     },
     "metadata": {
      "needs_background": "light",
      "tags": []
     },
     "output_type": "display_data"
    }
   ],
   "source": [
    "# Predict model on Test Data (x_test)\n",
    "\n",
    "Y_pred = model.predict(X_test)\n",
    "print(Y_pred)\n",
    "\n",
    "# Printing the confusion matrix\n",
    "from sklearn.metrics import classification_report,confusion_matrix\n",
    "import itertools\n",
    "\n",
    "# Print the classes of the Prediction\n",
    "y_pred = model.predict_classes(X_test)\n",
    "y_pred = np.array(y_pred)\n",
    "print(y_pred)\n",
    "\n",
    "target_names = ['AMD', 'DME', 'Normal']\n",
    "                                        \n",
    "# Plotting the confusion matrix\n",
    "def plot_confusion_matrix(cm, classes,\n",
    "                          normalize=False,\n",
    "                          title='Confusion matrix',\n",
    "                          cmap=plt.cm.Blues):\n",
    "    \"\"\"\n",
    "    This function prints and plots the confusion matrix.\n",
    "    Normalization can be applied by setting `normalize=True`.\n",
    "    \"\"\"\n",
    "    plt.imshow(cm, interpolation='nearest', cmap=cmap)\n",
    "    plt.title(title)\n",
    "    plt.colorbar()\n",
    "    tick_marks = np.arange(len(classes))\n",
    "    plt.xticks(tick_marks, classes, rotation=45)\n",
    "    plt.yticks(tick_marks, classes)\n",
    "\n",
    "    if normalize:\n",
    "        cm = cm.astype('float') / cm.sum(axis=1)[:, np.newaxis]\n",
    "        print(\"Normalized confusion matrix\")\n",
    "    else:\n",
    "        print('Confusion matrix, without normalization')\n",
    "\n",
    "    print(cm)\n",
    "\n",
    "    thresh = cm.max() / 2.\n",
    "    for i, j in itertools.product(range(cm.shape[0]), range(cm.shape[1])):\n",
    "        plt.text(j, i, cm[i, j],\n",
    "                 horizontalalignment=\"center\",\n",
    "                 color=\"white\" if cm[i, j] > thresh else \"black\")\n",
    "\n",
    "    plt.tight_layout()\n",
    "    plt.ylabel('True label')\n",
    "    plt.xlabel('Predicted label')\n",
    "\n",
    "#Computation  confusion matrix\n",
    "cnf_matrix = (confusion_matrix(np.argmax(y_test,axis=1), y_pred)) # y_pred from model, y_tes = actuals\n",
    "\n",
    "np.set_printoptions(precision=3)\n",
    "\n",
    "plt.figure()\n",
    "\n",
    "# Plotting non-normalized confusion matrix\n",
    "plot_confusion_matrix(cnf_matrix, classes=target_names,\n",
    "                      title='Confusion matrix')\n",
    "plt.show()"
   ]
  },
  {
   "cell_type": "code",
   "execution_count": null,
   "metadata": {
    "id": "jg0dPdwqjSHx"
   },
   "outputs": [],
   "source": []
  }
 ],
 "metadata": {
  "accelerator": "GPU",
  "colab": {
   "name": "Untitled9.ipynb",
   "provenance": []
  },
  "kernelspec": {
   "display_name": "Python 3",
   "language": "python",
   "name": "python3"
  },
  "language_info": {
   "codemirror_mode": {
    "name": "ipython",
    "version": 3
   },
   "file_extension": ".py",
   "mimetype": "text/x-python",
   "name": "python",
   "nbconvert_exporter": "python",
   "pygments_lexer": "ipython3",
   "version": "3.7.4"
  }
 },
 "nbformat": 4,
 "nbformat_minor": 1
}
